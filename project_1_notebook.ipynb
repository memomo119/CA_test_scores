{
 "cells": [
  {
   "cell_type": "markdown",
   "metadata": {},
   "source": [
    "# Project 1: Standardized Test Analysis"
   ]
  },
  {
   "cell_type": "markdown",
   "metadata": {},
   "source": [
    "--- \n",
    "# Part 1\n",
    "\n",
    "---"
   ]
  },
  {
   "cell_type": "markdown",
   "metadata": {},
   "source": [
    "## Problem Statement"
   ]
  },
  {
   "cell_type": "markdown",
   "metadata": {},
   "source": [
    "This project examines the performance of California high school students on college entrance exams to identify specific schools that could benefit from additional resources. Moreover, this project identifies a few trends that may be generalizable to other states and/or schools not surveyed. "
   ]
  },
  {
   "cell_type": "markdown",
   "metadata": {},
   "source": [
    "### Contents:\n",
    "- [Background](#Background)\n",
    "- [Data Import & Cleaning](#Data-Import-and-Cleaning)\n",
    "- [Exploratory Data Analysis](#Exploratory-Data-Analysis)\n",
    "- [Data Visualization](#Visualize-the-Data)\n",
    "- [Conclusions and Recommendations](#Conclusions-and-Recommendations)"
   ]
  },
  {
   "cell_type": "markdown",
   "metadata": {},
   "source": [
    "## Background"
   ]
  },
  {
   "cell_type": "markdown",
   "metadata": {},
   "source": [
    "#### College Exams in the US\n",
    "\n",
    "The SAT and ACT are standardized tests that many colleges and universities in the United States require for their admissions process. This score is used along with other materials such as grade point average (GPA) and essay responses to determine whether or not a potential student will be accepted to the university.\n",
    "\n",
    "The SAT has two sections of the test: Evidence-Based Reading and Writing and Math ([*source*](https://www.princetonreview.com/college/sat-sections)). The ACT has 4 sections: English, Mathematics, Reading, and Science, with an additional optional writing section ([*source*](https://www.act.org/content/act/en/products-and-services/the-act/scores/understanding-your-scores.html)). They have different score ranges, which you can read more about on their websites or additional outside sources (a quick Google search will help you understand the scores for each test):\n",
    "* [SAT](https://collegereadiness.collegeboard.org/sat)\n",
    "* [ACT](https://www.act.org/content/act/en.html)\n",
    "\n",
    "Standardized tests have long been a controversial topic for students, administrators, and legislators. Since the 1940's, an increasing number of colleges have been using scores from sudents' performances on tests like the SAT and the ACT as a measure for college readiness and aptitude ([*source*](https://www.minotdailynews.com/news/local-news/2017/04/a-brief-history-of-the-sat-and-act/)). Supporters of these tests argue that these scores can be used as an objective measure to determine college admittance. Opponents of these tests claim that these tests are not accurate measures of students potential or ability and serve as an inequitable barrier to entry. Lately, more and more schools are opting to drop the SAT/ACT requirement for their Fall 2021 applications ([*read more about this here*](https://www.cnn.com/2020/04/14/us/coronavirus-colleges-sat-act-test-trnd/index.html))."
   ]
  },
  {
   "cell_type": "markdown",
   "metadata": {},
   "source": [
    "#### Poverty in US High Schools\n",
    "In an attempt to address discrepancies in student preparation that result from poverty at home, the federal government has a few income-based assistance programs in place at schools. Information about program eligibility is publicly available and serves as an indirect measurement of poverty in the school community. \n",
    "\n",
    "One of these federally funded programs is the [National School Lunch program](https://www.fns.usda.gov/nslp/nslp-fact-sheet), which provides a nutritionally-balanced lunch for little or no cost to children at their school (public or private). About 30 million kids receive meals through the program every year. Eligibility for the program is usually referred to as \"Free and Reduced Lunch\" eligibility. \n",
    "\n",
    "Another major federal funding initiative is [Title I](https://www2.ed.gov/programs/titleiparta/index.html). Based largely on census data, schools or school districts receive extra funds to support low-achieving students in core academic subjects. Over 26 million students at over 55,000 schools received extra support through Title I in 2016, including about 5 million high school students. "
   ]
  },
  {
   "cell_type": "markdown",
   "metadata": {},
   "source": [
    "### Choose your Data"
   ]
  },
  {
   "cell_type": "markdown",
   "metadata": {},
   "source": [
    "I'll be using the 2019 SAT Scores by State, 2019 SAT Scores in California by School, and an outside data set from the National Center for Educational Statistics (NCES). \n",
    "\n",
    "- 2019 SAT Scores by State: Includes mean average scores (math, reading/writing, and combined total) and participation rate from all 50 states plus DC and Puerto Rico\n",
    "- 2019 SAT Scores in California by School: Participation rate and average scores for each school in California. Everything is broken out by 11th and 12th grade as well as combined. \n",
    "- NCES California High Schools: This includes qualitative and quantitative descriptors of California high schools, including Free and Reduced Lunch eligibility and Title I status. "
   ]
  },
  {
   "cell_type": "markdown",
   "metadata": {},
   "source": [
    "### Outside Research"
   ]
  },
  {
   "cell_type": "markdown",
   "metadata": {},
   "source": [
    "* [National Center for Education Statistics (NCES)](https://nces.ed.gov/ccd/schoolsearch/) allows you to obtain Free and Reduced Lunch and Title I info on any school within your search paramaters, and it includes a school ID which is the same as the one used in the SAT and ACT data. I searched for all California high schools and merged the NCES data with the SAT California data. \n",
    "\n",
    "* I also confirmed the oft-mentioned relationship between higher education and lifetime earnings. The [Social Security Administration](https://www.ssa.gov/policy/docs/research-summaries/education-earnings.html) has a succinct but compelling article on the topic. "
   ]
  },
  {
   "cell_type": "markdown",
   "metadata": {},
   "source": [
    "### Coding Challenges\n",
    "\n",
    "1. Manually calculate mean:\n",
    "\n",
    "    Write a function that takes in values and returns the mean of the values. Create a list of numbers that you test on your function to check to make sure your function works!\n",
    "    \n",
    "    *Note*: Do not use any mean methods built-in to any Python libraries to do this! This should be done without importing any additional libraries."
   ]
  },
  {
   "cell_type": "code",
   "execution_count": 1,
   "metadata": {},
   "outputs": [
    {
     "data": {
      "text/plain": [
       "15.0"
      ]
     },
     "execution_count": 1,
     "metadata": {},
     "output_type": "execute_result"
    }
   ],
   "source": [
    "some_nums = [5, 10, 15, 20, 25]\n",
    "\n",
    "def mean_avg(numbers):\n",
    "    num_sum = 0\n",
    "    for number in numbers:\n",
    "        num_sum += number\n",
    "    return num_sum / len(numbers)\n",
    "mean_avg(some_nums)"
   ]
  },
  {
   "cell_type": "markdown",
   "metadata": {},
   "source": [
    "2. Manually calculate standard deviation:\n",
    "\n",
    "    The formula for standard deviation is below:\n",
    "\n",
    "    $$\\sigma = \\sqrt{\\frac{1}{n}\\sum_{i=1}^n(x_i - \\mu)^2}$$\n",
    "\n",
    "    Where $x_i$ represents each value in the dataset, $\\mu$ represents the mean of all values in the dataset and $n$ represents the number of values in the dataset.\n",
    "\n",
    "    Write a function that takes in values and returns the standard deviation of the values using the formula above. Hint: use the function you wrote above to calculate the mean! Use the list of numbers you created above to test on your function.\n",
    "    \n",
    "    *Note*: Do not use any standard deviation methods built-in to any Python libraries to do this! This should be done without importing any additional libraries."
   ]
  },
  {
   "cell_type": "code",
   "execution_count": 2,
   "metadata": {},
   "outputs": [
    {
     "data": {
      "text/plain": [
       "7.0710678118654755"
      ]
     },
     "execution_count": 2,
     "metadata": {},
     "output_type": "execute_result"
    }
   ],
   "source": [
    "def stdev(numbers):\n",
    "    sigma = 0\n",
    "    for number in numbers:\n",
    "        sigma += (abs(number - mean_avg(numbers)))**2\n",
    "    return (sigma / len(numbers)) ** .5\n",
    "stdev(some_nums)"
   ]
  },
  {
   "cell_type": "markdown",
   "metadata": {},
   "source": [
    "3. Data cleaning function:\n",
    "    \n",
    "    Write a function that takes in a string that is a number and a percent symbol (ex. '50%', '30.5%', etc.) and converts this to a float that is the decimal approximation of the percent. For example, inputting '50%' in your function should return 0.5, '30.5%' should return 0.305, etc. Make sure to test your function to make sure it works!\n",
    "\n",
    "You will use these functions later on in the project!"
   ]
  },
  {
   "cell_type": "code",
   "execution_count": 3,
   "metadata": {},
   "outputs": [
    {
     "data": {
      "text/plain": [
       "0.5"
      ]
     },
     "execution_count": 3,
     "metadata": {},
     "output_type": "execute_result"
    }
   ],
   "source": [
    "def convert_pct(x):\n",
    "    return (int(x.strip('%')) * 0.01)\n",
    "convert_pct('50%')"
   ]
  },
  {
   "cell_type": "markdown",
   "metadata": {},
   "source": [
    "--- \n",
    "# Part 2\n",
    "---"
   ]
  },
  {
   "cell_type": "markdown",
   "metadata": {},
   "source": [
    "*All libraries used should be added here*"
   ]
  },
  {
   "cell_type": "code",
   "execution_count": 4,
   "metadata": {},
   "outputs": [],
   "source": [
    "import pandas as pd\n",
    "import numpy as np\n",
    "import matplotlib.pyplot as plt\n",
    "import seaborn as sns\n",
    "import math"
   ]
  },
  {
   "cell_type": "markdown",
   "metadata": {},
   "source": [
    "## Data Import and Cleaning"
   ]
  },
  {
   "cell_type": "markdown",
   "metadata": {},
   "source": [
    "#### First look at the data"
   ]
  },
  {
   "cell_type": "code",
   "execution_count": 5,
   "metadata": {},
   "outputs": [],
   "source": [
    "sat_2019 = pd.read_csv('../data/sat_2019.csv')\n",
    "sat_ca = pd.read_csv('../data/sat_2019_ca.csv')\n",
    "nces = pd.read_csv('../data/ncesdata_calif.csv')"
   ]
  },
  {
   "cell_type": "code",
   "execution_count": 6,
   "metadata": {},
   "outputs": [
    {
     "data": {
      "text/html": [
       "<div>\n",
       "<style scoped>\n",
       "    .dataframe tbody tr th:only-of-type {\n",
       "        vertical-align: middle;\n",
       "    }\n",
       "\n",
       "    .dataframe tbody tr th {\n",
       "        vertical-align: top;\n",
       "    }\n",
       "\n",
       "    .dataframe thead th {\n",
       "        text-align: right;\n",
       "    }\n",
       "</style>\n",
       "<table border=\"1\" class=\"dataframe\">\n",
       "  <thead>\n",
       "    <tr style=\"text-align: right;\">\n",
       "      <th></th>\n",
       "      <th>State</th>\n",
       "      <th>Participation Rate</th>\n",
       "      <th>EBRW</th>\n",
       "      <th>Math</th>\n",
       "      <th>Total</th>\n",
       "    </tr>\n",
       "  </thead>\n",
       "  <tbody>\n",
       "    <tr>\n",
       "      <th>0</th>\n",
       "      <td>Alabama</td>\n",
       "      <td>7%</td>\n",
       "      <td>583</td>\n",
       "      <td>560</td>\n",
       "      <td>1143</td>\n",
       "    </tr>\n",
       "    <tr>\n",
       "      <th>1</th>\n",
       "      <td>Alaska</td>\n",
       "      <td>41%</td>\n",
       "      <td>556</td>\n",
       "      <td>541</td>\n",
       "      <td>1097</td>\n",
       "    </tr>\n",
       "    <tr>\n",
       "      <th>2</th>\n",
       "      <td>Arizona</td>\n",
       "      <td>31%</td>\n",
       "      <td>569</td>\n",
       "      <td>565</td>\n",
       "      <td>1134</td>\n",
       "    </tr>\n",
       "    <tr>\n",
       "      <th>3</th>\n",
       "      <td>Arkansas</td>\n",
       "      <td>6%</td>\n",
       "      <td>582</td>\n",
       "      <td>559</td>\n",
       "      <td>1141</td>\n",
       "    </tr>\n",
       "    <tr>\n",
       "      <th>4</th>\n",
       "      <td>California</td>\n",
       "      <td>63%</td>\n",
       "      <td>534</td>\n",
       "      <td>531</td>\n",
       "      <td>1065</td>\n",
       "    </tr>\n",
       "  </tbody>\n",
       "</table>\n",
       "</div>"
      ],
      "text/plain": [
       "        State Participation Rate  EBRW  Math  Total\n",
       "0     Alabama                 7%   583   560   1143\n",
       "1      Alaska                41%   556   541   1097\n",
       "2     Arizona                31%   569   565   1134\n",
       "3    Arkansas                 6%   582   559   1141\n",
       "4  California                63%   534   531   1065"
      ]
     },
     "execution_count": 6,
     "metadata": {},
     "output_type": "execute_result"
    }
   ],
   "source": [
    "sat_2019.head()"
   ]
  },
  {
   "cell_type": "code",
   "execution_count": 7,
   "metadata": {},
   "outputs": [
    {
     "data": {
      "text/html": [
       "<div>\n",
       "<style scoped>\n",
       "    .dataframe tbody tr th:only-of-type {\n",
       "        vertical-align: middle;\n",
       "    }\n",
       "\n",
       "    .dataframe tbody tr th {\n",
       "        vertical-align: top;\n",
       "    }\n",
       "\n",
       "    .dataframe thead th {\n",
       "        text-align: right;\n",
       "    }\n",
       "</style>\n",
       "<table border=\"1\" class=\"dataframe\">\n",
       "  <thead>\n",
       "    <tr style=\"text-align: right;\">\n",
       "      <th></th>\n",
       "      <th>CDS</th>\n",
       "      <th>CCode</th>\n",
       "      <th>CDCode</th>\n",
       "      <th>SCode</th>\n",
       "      <th>RType</th>\n",
       "      <th>SName</th>\n",
       "      <th>DName</th>\n",
       "      <th>CName</th>\n",
       "      <th>Enroll12</th>\n",
       "      <th>NumTSTTakr12</th>\n",
       "      <th>...</th>\n",
       "      <th>NumERWBenchmark11</th>\n",
       "      <th>PctERWBenchmark11</th>\n",
       "      <th>NumMathBenchmark11</th>\n",
       "      <th>PctMathBenchmark11</th>\n",
       "      <th>TotNumBothBenchmark12</th>\n",
       "      <th>PctBothBenchmark12</th>\n",
       "      <th>TotNumBothBenchmark11</th>\n",
       "      <th>PctBothBenchmark11</th>\n",
       "      <th>Year</th>\n",
       "      <th>Unnamed: 25</th>\n",
       "    </tr>\n",
       "  </thead>\n",
       "  <tbody>\n",
       "    <tr>\n",
       "      <th>0</th>\n",
       "      <td>6.615981e+12</td>\n",
       "      <td>6.0</td>\n",
       "      <td>661598.0</td>\n",
       "      <td>630046.0</td>\n",
       "      <td>S</td>\n",
       "      <td>Colusa Alternative Home</td>\n",
       "      <td>Colusa Unified</td>\n",
       "      <td>Colusa</td>\n",
       "      <td>18.0</td>\n",
       "      <td>0.0</td>\n",
       "      <td>...</td>\n",
       "      <td>NaN</td>\n",
       "      <td>NaN</td>\n",
       "      <td>NaN</td>\n",
       "      <td>NaN</td>\n",
       "      <td>NaN</td>\n",
       "      <td>NaN</td>\n",
       "      <td>NaN</td>\n",
       "      <td>NaN</td>\n",
       "      <td>2018-19</td>\n",
       "      <td>NaN</td>\n",
       "    </tr>\n",
       "    <tr>\n",
       "      <th>1</th>\n",
       "      <td>6.616061e+12</td>\n",
       "      <td>6.0</td>\n",
       "      <td>661606.0</td>\n",
       "      <td>634758.0</td>\n",
       "      <td>S</td>\n",
       "      <td>Maxwell Sr High</td>\n",
       "      <td>Maxwell Unified</td>\n",
       "      <td>Colusa</td>\n",
       "      <td>29.0</td>\n",
       "      <td>10.0</td>\n",
       "      <td>...</td>\n",
       "      <td>*</td>\n",
       "      <td>*</td>\n",
       "      <td>*</td>\n",
       "      <td>*</td>\n",
       "      <td>*</td>\n",
       "      <td>*</td>\n",
       "      <td>*</td>\n",
       "      <td>*</td>\n",
       "      <td>2018-19</td>\n",
       "      <td>NaN</td>\n",
       "    </tr>\n",
       "    <tr>\n",
       "      <th>2</th>\n",
       "      <td>1.964733e+13</td>\n",
       "      <td>19.0</td>\n",
       "      <td>1964733.0</td>\n",
       "      <td>1930924.0</td>\n",
       "      <td>S</td>\n",
       "      <td>Belmont Senior High</td>\n",
       "      <td>Los Angeles Unified</td>\n",
       "      <td>Los Angeles</td>\n",
       "      <td>206.0</td>\n",
       "      <td>102.0</td>\n",
       "      <td>...</td>\n",
       "      <td>42</td>\n",
       "      <td>24.14</td>\n",
       "      <td>12</td>\n",
       "      <td>6.90</td>\n",
       "      <td>14</td>\n",
       "      <td>13.73</td>\n",
       "      <td>11</td>\n",
       "      <td>6.32</td>\n",
       "      <td>2018-19</td>\n",
       "      <td>NaN</td>\n",
       "    </tr>\n",
       "    <tr>\n",
       "      <th>3</th>\n",
       "      <td>1.964733e+13</td>\n",
       "      <td>19.0</td>\n",
       "      <td>1964733.0</td>\n",
       "      <td>1931476.0</td>\n",
       "      <td>S</td>\n",
       "      <td>Canoga Park Senior High</td>\n",
       "      <td>Los Angeles Unified</td>\n",
       "      <td>Los Angeles</td>\n",
       "      <td>227.0</td>\n",
       "      <td>113.0</td>\n",
       "      <td>...</td>\n",
       "      <td>97</td>\n",
       "      <td>35.27</td>\n",
       "      <td>37</td>\n",
       "      <td>13.45</td>\n",
       "      <td>18</td>\n",
       "      <td>15.93</td>\n",
       "      <td>35</td>\n",
       "      <td>12.73</td>\n",
       "      <td>2018-19</td>\n",
       "      <td>NaN</td>\n",
       "    </tr>\n",
       "    <tr>\n",
       "      <th>4</th>\n",
       "      <td>1.964733e+13</td>\n",
       "      <td>19.0</td>\n",
       "      <td>1964733.0</td>\n",
       "      <td>1931856.0</td>\n",
       "      <td>S</td>\n",
       "      <td>Whitman Continuation</td>\n",
       "      <td>Los Angeles Unified</td>\n",
       "      <td>Los Angeles</td>\n",
       "      <td>18.0</td>\n",
       "      <td>14.0</td>\n",
       "      <td>...</td>\n",
       "      <td>*</td>\n",
       "      <td>*</td>\n",
       "      <td>*</td>\n",
       "      <td>*</td>\n",
       "      <td>*</td>\n",
       "      <td>*</td>\n",
       "      <td>*</td>\n",
       "      <td>*</td>\n",
       "      <td>2018-19</td>\n",
       "      <td>NaN</td>\n",
       "    </tr>\n",
       "  </tbody>\n",
       "</table>\n",
       "<p>5 rows × 26 columns</p>\n",
       "</div>"
      ],
      "text/plain": [
       "            CDS  CCode     CDCode      SCode RType                    SName  \\\n",
       "0  6.615981e+12    6.0   661598.0   630046.0     S  Colusa Alternative Home   \n",
       "1  6.616061e+12    6.0   661606.0   634758.0     S          Maxwell Sr High   \n",
       "2  1.964733e+13   19.0  1964733.0  1930924.0     S      Belmont Senior High   \n",
       "3  1.964733e+13   19.0  1964733.0  1931476.0     S  Canoga Park Senior High   \n",
       "4  1.964733e+13   19.0  1964733.0  1931856.0     S     Whitman Continuation   \n",
       "\n",
       "                 DName        CName  Enroll12  NumTSTTakr12  ...  \\\n",
       "0       Colusa Unified       Colusa      18.0           0.0  ...   \n",
       "1      Maxwell Unified       Colusa      29.0          10.0  ...   \n",
       "2  Los Angeles Unified  Los Angeles     206.0         102.0  ...   \n",
       "3  Los Angeles Unified  Los Angeles     227.0         113.0  ...   \n",
       "4  Los Angeles Unified  Los Angeles      18.0          14.0  ...   \n",
       "\n",
       "  NumERWBenchmark11 PctERWBenchmark11 NumMathBenchmark11 PctMathBenchmark11  \\\n",
       "0               NaN               NaN                NaN                NaN   \n",
       "1                 *                 *                  *                  *   \n",
       "2                42             24.14                 12               6.90   \n",
       "3                97             35.27                 37              13.45   \n",
       "4                 *                 *                  *                  *   \n",
       "\n",
       "   TotNumBothBenchmark12  PctBothBenchmark12 TotNumBothBenchmark11  \\\n",
       "0                    NaN                 NaN                   NaN   \n",
       "1                      *                   *                     *   \n",
       "2                     14               13.73                    11   \n",
       "3                     18               15.93                    35   \n",
       "4                      *                   *                     *   \n",
       "\n",
       "  PctBothBenchmark11     Year Unnamed: 25  \n",
       "0                NaN  2018-19         NaN  \n",
       "1                  *  2018-19         NaN  \n",
       "2               6.32  2018-19         NaN  \n",
       "3              12.73  2018-19         NaN  \n",
       "4                  *  2018-19         NaN  \n",
       "\n",
       "[5 rows x 26 columns]"
      ]
     },
     "execution_count": 7,
     "metadata": {},
     "output_type": "execute_result"
    }
   ],
   "source": [
    "sat_ca.head()"
   ]
  },
  {
   "cell_type": "markdown",
   "metadata": {},
   "source": [
    "The data I downloaded from NCES was pretty messy, so I've included the first 20 rows to give you a fuller picture of how it looked originally. As you can see, the first 12 rows are mainly nulls except for the first column, which contains some long strings explaining various abbreviations present in the data and some other meta data. Then the column names appear on row 13. Removing the first 13 rows and renaming the columns was the top priority to make this dataset useable. "
   ]
  },
  {
   "cell_type": "code",
   "execution_count": 8,
   "metadata": {},
   "outputs": [
    {
     "data": {
      "text/html": [
       "<div>\n",
       "<style scoped>\n",
       "    .dataframe tbody tr th:only-of-type {\n",
       "        vertical-align: middle;\n",
       "    }\n",
       "\n",
       "    .dataframe tbody tr th {\n",
       "        vertical-align: top;\n",
       "    }\n",
       "\n",
       "    .dataframe thead th {\n",
       "        text-align: right;\n",
       "    }\n",
       "</style>\n",
       "<table border=\"1\" class=\"dataframe\">\n",
       "  <thead>\n",
       "    <tr style=\"text-align: right;\">\n",
       "      <th></th>\n",
       "      <th>National Center for Education Statistics</th>\n",
       "      <th>Unnamed: 1</th>\n",
       "      <th>Unnamed: 2</th>\n",
       "      <th>Unnamed: 3</th>\n",
       "      <th>Unnamed: 4</th>\n",
       "      <th>Unnamed: 5</th>\n",
       "      <th>Unnamed: 6</th>\n",
       "      <th>Unnamed: 7</th>\n",
       "      <th>Unnamed: 8</th>\n",
       "      <th>Unnamed: 9</th>\n",
       "      <th>...</th>\n",
       "      <th>Unnamed: 16</th>\n",
       "      <th>Unnamed: 17</th>\n",
       "      <th>Unnamed: 18</th>\n",
       "      <th>Unnamed: 19</th>\n",
       "      <th>Unnamed: 20</th>\n",
       "      <th>Unnamed: 21</th>\n",
       "      <th>Unnamed: 22</th>\n",
       "      <th>Unnamed: 23</th>\n",
       "      <th>Unnamed: 24</th>\n",
       "      <th>Unnamed: 25</th>\n",
       "    </tr>\n",
       "  </thead>\n",
       "  <tbody>\n",
       "    <tr>\n",
       "      <th>0</th>\n",
       "      <td>CCD public school data 2019-2020, 2020-2021 sc...</td>\n",
       "      <td>NaN</td>\n",
       "      <td>NaN</td>\n",
       "      <td>NaN</td>\n",
       "      <td>NaN</td>\n",
       "      <td>NaN</td>\n",
       "      <td>NaN</td>\n",
       "      <td>NaN</td>\n",
       "      <td>NaN</td>\n",
       "      <td>NaN</td>\n",
       "      <td>...</td>\n",
       "      <td>NaN</td>\n",
       "      <td>NaN</td>\n",
       "      <td>NaN</td>\n",
       "      <td>NaN</td>\n",
       "      <td>NaN</td>\n",
       "      <td>NaN</td>\n",
       "      <td>NaN</td>\n",
       "      <td>NaN</td>\n",
       "      <td>NaN</td>\n",
       "      <td>NaN</td>\n",
       "    </tr>\n",
       "    <tr>\n",
       "      <th>1</th>\n",
       "      <td>The file contains (2776) records based on your...</td>\n",
       "      <td>NaN</td>\n",
       "      <td>NaN</td>\n",
       "      <td>NaN</td>\n",
       "      <td>NaN</td>\n",
       "      <td>NaN</td>\n",
       "      <td>NaN</td>\n",
       "      <td>NaN</td>\n",
       "      <td>NaN</td>\n",
       "      <td>NaN</td>\n",
       "      <td>...</td>\n",
       "      <td>NaN</td>\n",
       "      <td>NaN</td>\n",
       "      <td>NaN</td>\n",
       "      <td>NaN</td>\n",
       "      <td>NaN</td>\n",
       "      <td>NaN</td>\n",
       "      <td>NaN</td>\n",
       "      <td>NaN</td>\n",
       "      <td>NaN</td>\n",
       "      <td>NaN</td>\n",
       "    </tr>\n",
       "    <tr>\n",
       "      <th>2</th>\n",
       "      <td>NOTES:</td>\n",
       "      <td>NaN</td>\n",
       "      <td>NaN</td>\n",
       "      <td>NaN</td>\n",
       "      <td>NaN</td>\n",
       "      <td>NaN</td>\n",
       "      <td>NaN</td>\n",
       "      <td>NaN</td>\n",
       "      <td>NaN</td>\n",
       "      <td>NaN</td>\n",
       "      <td>...</td>\n",
       "      <td>NaN</td>\n",
       "      <td>NaN</td>\n",
       "      <td>NaN</td>\n",
       "      <td>NaN</td>\n",
       "      <td>NaN</td>\n",
       "      <td>NaN</td>\n",
       "      <td>NaN</td>\n",
       "      <td>NaN</td>\n",
       "      <td>NaN</td>\n",
       "      <td>NaN</td>\n",
       "    </tr>\n",
       "    <tr>\n",
       "      <th>3</th>\n",
       "      <td>NaN</td>\n",
       "      <td>NaN</td>\n",
       "      <td>NaN</td>\n",
       "      <td>NaN</td>\n",
       "      <td>NaN</td>\n",
       "      <td>NaN</td>\n",
       "      <td>NaN</td>\n",
       "      <td>NaN</td>\n",
       "      <td>NaN</td>\n",
       "      <td>NaN</td>\n",
       "      <td>...</td>\n",
       "      <td>NaN</td>\n",
       "      <td>NaN</td>\n",
       "      <td>NaN</td>\n",
       "      <td>NaN</td>\n",
       "      <td>NaN</td>\n",
       "      <td>NaN</td>\n",
       "      <td>NaN</td>\n",
       "      <td>NaN</td>\n",
       "      <td>NaN</td>\n",
       "      <td>NaN</td>\n",
       "    </tr>\n",
       "    <tr>\n",
       "      <th>4</th>\n",
       "      <td>* denotes a column with data from 2019-2020</td>\n",
       "      <td>NaN</td>\n",
       "      <td>NaN</td>\n",
       "      <td>NaN</td>\n",
       "      <td>NaN</td>\n",
       "      <td>NaN</td>\n",
       "      <td>NaN</td>\n",
       "      <td>NaN</td>\n",
       "      <td>NaN</td>\n",
       "      <td>NaN</td>\n",
       "      <td>...</td>\n",
       "      <td>NaN</td>\n",
       "      <td>NaN</td>\n",
       "      <td>NaN</td>\n",
       "      <td>NaN</td>\n",
       "      <td>NaN</td>\n",
       "      <td>NaN</td>\n",
       "      <td>NaN</td>\n",
       "      <td>NaN</td>\n",
       "      <td>NaN</td>\n",
       "      <td>NaN</td>\n",
       "    </tr>\n",
       "    <tr>\n",
       "      <th>5</th>\n",
       "      <td>[ ] indicates that the data are not applicable...</td>\n",
       "      <td>NaN</td>\n",
       "      <td>NaN</td>\n",
       "      <td>NaN</td>\n",
       "      <td>NaN</td>\n",
       "      <td>NaN</td>\n",
       "      <td>NaN</td>\n",
       "      <td>NaN</td>\n",
       "      <td>NaN</td>\n",
       "      <td>NaN</td>\n",
       "      <td>...</td>\n",
       "      <td>NaN</td>\n",
       "      <td>NaN</td>\n",
       "      <td>NaN</td>\n",
       "      <td>NaN</td>\n",
       "      <td>NaN</td>\n",
       "      <td>NaN</td>\n",
       "      <td>NaN</td>\n",
       "      <td>NaN</td>\n",
       "      <td>NaN</td>\n",
       "      <td>NaN</td>\n",
       "    </tr>\n",
       "    <tr>\n",
       "      <th>6</th>\n",
       "      <td>[ ] indicates that the data are missing.</td>\n",
       "      <td>NaN</td>\n",
       "      <td>NaN</td>\n",
       "      <td>NaN</td>\n",
       "      <td>NaN</td>\n",
       "      <td>NaN</td>\n",
       "      <td>NaN</td>\n",
       "      <td>NaN</td>\n",
       "      <td>NaN</td>\n",
       "      <td>NaN</td>\n",
       "      <td>...</td>\n",
       "      <td>NaN</td>\n",
       "      <td>NaN</td>\n",
       "      <td>NaN</td>\n",
       "      <td>NaN</td>\n",
       "      <td>NaN</td>\n",
       "      <td>NaN</td>\n",
       "      <td>NaN</td>\n",
       "      <td>NaN</td>\n",
       "      <td>NaN</td>\n",
       "      <td>NaN</td>\n",
       "    </tr>\n",
       "    <tr>\n",
       "      <th>7</th>\n",
       "      <td>[ ] indicates that the data do not meet NCES d...</td>\n",
       "      <td>NaN</td>\n",
       "      <td>NaN</td>\n",
       "      <td>NaN</td>\n",
       "      <td>NaN</td>\n",
       "      <td>NaN</td>\n",
       "      <td>NaN</td>\n",
       "      <td>NaN</td>\n",
       "      <td>NaN</td>\n",
       "      <td>NaN</td>\n",
       "      <td>...</td>\n",
       "      <td>NaN</td>\n",
       "      <td>NaN</td>\n",
       "      <td>NaN</td>\n",
       "      <td>NaN</td>\n",
       "      <td>NaN</td>\n",
       "      <td>NaN</td>\n",
       "      <td>NaN</td>\n",
       "      <td>NaN</td>\n",
       "      <td>NaN</td>\n",
       "      <td>NaN</td>\n",
       "    </tr>\n",
       "    <tr>\n",
       "      <th>8</th>\n",
       "      <td>The directory information on school name, addr...</td>\n",
       "      <td>NaN</td>\n",
       "      <td>NaN</td>\n",
       "      <td>NaN</td>\n",
       "      <td>NaN</td>\n",
       "      <td>NaN</td>\n",
       "      <td>NaN</td>\n",
       "      <td>NaN</td>\n",
       "      <td>NaN</td>\n",
       "      <td>NaN</td>\n",
       "      <td>...</td>\n",
       "      <td>NaN</td>\n",
       "      <td>NaN</td>\n",
       "      <td>NaN</td>\n",
       "      <td>NaN</td>\n",
       "      <td>NaN</td>\n",
       "      <td>NaN</td>\n",
       "      <td>NaN</td>\n",
       "      <td>NaN</td>\n",
       "      <td>NaN</td>\n",
       "      <td>NaN</td>\n",
       "    </tr>\n",
       "    <tr>\n",
       "      <th>9</th>\n",
       "      <td>Data provided on student membership and staffi...</td>\n",
       "      <td>NaN</td>\n",
       "      <td>NaN</td>\n",
       "      <td>NaN</td>\n",
       "      <td>NaN</td>\n",
       "      <td>NaN</td>\n",
       "      <td>NaN</td>\n",
       "      <td>NaN</td>\n",
       "      <td>NaN</td>\n",
       "      <td>NaN</td>\n",
       "      <td>...</td>\n",
       "      <td>NaN</td>\n",
       "      <td>NaN</td>\n",
       "      <td>NaN</td>\n",
       "      <td>NaN</td>\n",
       "      <td>NaN</td>\n",
       "      <td>NaN</td>\n",
       "      <td>NaN</td>\n",
       "      <td>NaN</td>\n",
       "      <td>NaN</td>\n",
       "      <td>NaN</td>\n",
       "    </tr>\n",
       "    <tr>\n",
       "      <th>10</th>\n",
       "      <td>NaN</td>\n",
       "      <td>NaN</td>\n",
       "      <td>NaN</td>\n",
       "      <td>NaN</td>\n",
       "      <td>NaN</td>\n",
       "      <td>NaN</td>\n",
       "      <td>NaN</td>\n",
       "      <td>NaN</td>\n",
       "      <td>NaN</td>\n",
       "      <td>NaN</td>\n",
       "      <td>...</td>\n",
       "      <td>NaN</td>\n",
       "      <td>NaN</td>\n",
       "      <td>NaN</td>\n",
       "      <td>NaN</td>\n",
       "      <td>NaN</td>\n",
       "      <td>NaN</td>\n",
       "      <td>NaN</td>\n",
       "      <td>NaN</td>\n",
       "      <td>NaN</td>\n",
       "      <td>NaN</td>\n",
       "    </tr>\n",
       "    <tr>\n",
       "      <th>11</th>\n",
       "      <td>SEARCH CRITERIA: State: \"California\"-School De...</td>\n",
       "      <td>NaN</td>\n",
       "      <td>NaN</td>\n",
       "      <td>NaN</td>\n",
       "      <td>NaN</td>\n",
       "      <td>NaN</td>\n",
       "      <td>NaN</td>\n",
       "      <td>NaN</td>\n",
       "      <td>NaN</td>\n",
       "      <td>NaN</td>\n",
       "      <td>...</td>\n",
       "      <td>NaN</td>\n",
       "      <td>NaN</td>\n",
       "      <td>NaN</td>\n",
       "      <td>NaN</td>\n",
       "      <td>NaN</td>\n",
       "      <td>NaN</td>\n",
       "      <td>NaN</td>\n",
       "      <td>NaN</td>\n",
       "      <td>NaN</td>\n",
       "      <td>NaN</td>\n",
       "    </tr>\n",
       "    <tr>\n",
       "      <th>12</th>\n",
       "      <td>NCES is not responsible for the manner in whic...</td>\n",
       "      <td>NaN</td>\n",
       "      <td>NaN</td>\n",
       "      <td>NaN</td>\n",
       "      <td>NaN</td>\n",
       "      <td>NaN</td>\n",
       "      <td>NaN</td>\n",
       "      <td>NaN</td>\n",
       "      <td>NaN</td>\n",
       "      <td>NaN</td>\n",
       "      <td>...</td>\n",
       "      <td>NaN</td>\n",
       "      <td>NaN</td>\n",
       "      <td>NaN</td>\n",
       "      <td>NaN</td>\n",
       "      <td>NaN</td>\n",
       "      <td>NaN</td>\n",
       "      <td>NaN</td>\n",
       "      <td>NaN</td>\n",
       "      <td>NaN</td>\n",
       "      <td>NaN</td>\n",
       "    </tr>\n",
       "    <tr>\n",
       "      <th>13</th>\n",
       "      <td>NCES School ID</td>\n",
       "      <td>State School ID</td>\n",
       "      <td>NCES District ID</td>\n",
       "      <td>State District ID</td>\n",
       "      <td>Low Grade*</td>\n",
       "      <td>High Grade*</td>\n",
       "      <td>School Name</td>\n",
       "      <td>District</td>\n",
       "      <td>County Name*</td>\n",
       "      <td>Street Address</td>\n",
       "      <td>...</td>\n",
       "      <td>Locale*</td>\n",
       "      <td>Charter</td>\n",
       "      <td>Magnet*</td>\n",
       "      <td>Title I School*</td>\n",
       "      <td>Title 1 School Wide*</td>\n",
       "      <td>Students*</td>\n",
       "      <td>Teachers*</td>\n",
       "      <td>Student Teacher Ratio*</td>\n",
       "      <td>Free Lunch*</td>\n",
       "      <td>Reduced Lunch*</td>\n",
       "    </tr>\n",
       "    <tr>\n",
       "      <th>14</th>\n",
       "      <td>060429013779</td>\n",
       "      <td>CA-3366993-0129882</td>\n",
       "      <td>0604290</td>\n",
       "      <td>CA-3366993</td>\n",
       "      <td>KG</td>\n",
       "      <td>12</td>\n",
       "      <td>21st Century Learning Institute</td>\n",
       "      <td>Beaumont Unified</td>\n",
       "      <td>Riverside County</td>\n",
       "      <td>PO Box 187</td>\n",
       "      <td>...</td>\n",
       "      <td>Suburb: Large</td>\n",
       "      <td>No</td>\n",
       "      <td>No</td>\n",
       "      <td>No</td>\n",
       "      <td>†</td>\n",
       "      <td>96.00000</td>\n",
       "      <td>–</td>\n",
       "      <td>†</td>\n",
       "      <td>46.00000</td>\n",
       "      <td>6.00000</td>\n",
       "    </tr>\n",
       "    <tr>\n",
       "      <th>15</th>\n",
       "      <td>060162010232</td>\n",
       "      <td>CA-1964212-1995596</td>\n",
       "      <td>0601620</td>\n",
       "      <td>CA-1964212</td>\n",
       "      <td>07</td>\n",
       "      <td>12</td>\n",
       "      <td>ABC Secondary (Alternative)</td>\n",
       "      <td>ABC Unified</td>\n",
       "      <td>Los Angeles County</td>\n",
       "      <td>16534 S. Carmenita Rd.</td>\n",
       "      <td>...</td>\n",
       "      <td>Suburb: Large</td>\n",
       "      <td>No</td>\n",
       "      <td>No</td>\n",
       "      <td>Yes</td>\n",
       "      <td>No</td>\n",
       "      <td>71.00000</td>\n",
       "      <td>–</td>\n",
       "      <td>†</td>\n",
       "      <td>38.00000</td>\n",
       "      <td>0.00000</td>\n",
       "    </tr>\n",
       "    <tr>\n",
       "      <th>16</th>\n",
       "      <td>063762002045</td>\n",
       "      <td>CA-1563776-1530377</td>\n",
       "      <td>0637620</td>\n",
       "      <td>CA-1563776</td>\n",
       "      <td>KG</td>\n",
       "      <td>12</td>\n",
       "      <td>Abraham Lincoln Alternative</td>\n",
       "      <td>Southern Kern Unified</td>\n",
       "      <td>Kern County</td>\n",
       "      <td>2601 Rosamond Blvd.</td>\n",
       "      <td>...</td>\n",
       "      <td>Town: Fringe</td>\n",
       "      <td>No</td>\n",
       "      <td>No</td>\n",
       "      <td>No</td>\n",
       "      <td>†</td>\n",
       "      <td>66.00000</td>\n",
       "      <td>–</td>\n",
       "      <td>†</td>\n",
       "      <td>48.00000</td>\n",
       "      <td>2.00000</td>\n",
       "    </tr>\n",
       "    <tr>\n",
       "      <th>17</th>\n",
       "      <td>063315005148</td>\n",
       "      <td>CA-3367215-3336955</td>\n",
       "      <td>0633150</td>\n",
       "      <td>CA-3367215</td>\n",
       "      <td>09</td>\n",
       "      <td>12</td>\n",
       "      <td>Abraham Lincoln Continuation</td>\n",
       "      <td>Riverside Unified</td>\n",
       "      <td>Riverside County</td>\n",
       "      <td>4341 Victoria Ave.</td>\n",
       "      <td>...</td>\n",
       "      <td>City: Large</td>\n",
       "      <td>No</td>\n",
       "      <td>No</td>\n",
       "      <td>Yes</td>\n",
       "      <td>Yes</td>\n",
       "      <td>196.00000</td>\n",
       "      <td>–</td>\n",
       "      <td>†</td>\n",
       "      <td>163.00000</td>\n",
       "      <td>17.00000</td>\n",
       "    </tr>\n",
       "    <tr>\n",
       "      <th>18</th>\n",
       "      <td>063459005696</td>\n",
       "      <td>CA-4369666-4333795</td>\n",
       "      <td>0634590</td>\n",
       "      <td>CA-4369666</td>\n",
       "      <td>09</td>\n",
       "      <td>12</td>\n",
       "      <td>Abraham Lincoln High</td>\n",
       "      <td>San Jose Unified</td>\n",
       "      <td>Santa Clara County</td>\n",
       "      <td>123 Test St</td>\n",
       "      <td>...</td>\n",
       "      <td>City: Large</td>\n",
       "      <td>No</td>\n",
       "      <td>No</td>\n",
       "      <td>Yes</td>\n",
       "      <td>Yes</td>\n",
       "      <td>1725.00000</td>\n",
       "      <td>–</td>\n",
       "      <td>†</td>\n",
       "      <td>724.00000</td>\n",
       "      <td>162.00000</td>\n",
       "    </tr>\n",
       "    <tr>\n",
       "      <th>19</th>\n",
       "      <td>062271003139</td>\n",
       "      <td>CA-1964733-1935121</td>\n",
       "      <td>0622710</td>\n",
       "      <td>CA-1964733</td>\n",
       "      <td>09</td>\n",
       "      <td>12</td>\n",
       "      <td>Abraham Lincoln Senior High</td>\n",
       "      <td>Los Angeles Unified</td>\n",
       "      <td>Los Angeles County</td>\n",
       "      <td>3501 N. BRd.way</td>\n",
       "      <td>...</td>\n",
       "      <td>City: Large</td>\n",
       "      <td>No</td>\n",
       "      <td>Yes</td>\n",
       "      <td>Yes</td>\n",
       "      <td>Yes</td>\n",
       "      <td>1103.00000</td>\n",
       "      <td>–</td>\n",
       "      <td>†</td>\n",
       "      <td>998.00000</td>\n",
       "      <td>60.00000</td>\n",
       "    </tr>\n",
       "  </tbody>\n",
       "</table>\n",
       "<p>20 rows × 26 columns</p>\n",
       "</div>"
      ],
      "text/plain": [
       "             National Center for Education Statistics          Unnamed: 1  \\\n",
       "0   CCD public school data 2019-2020, 2020-2021 sc...                 NaN   \n",
       "1   The file contains (2776) records based on your...                 NaN   \n",
       "2                                              NOTES:                 NaN   \n",
       "3                                                 NaN                 NaN   \n",
       "4         * denotes a column with data from 2019-2020                 NaN   \n",
       "5   [ ] indicates that the data are not applicable...                 NaN   \n",
       "6            [ ] indicates that the data are missing.                 NaN   \n",
       "7   [ ] indicates that the data do not meet NCES d...                 NaN   \n",
       "8   The directory information on school name, addr...                 NaN   \n",
       "9   Data provided on student membership and staffi...                 NaN   \n",
       "10                                                NaN                 NaN   \n",
       "11  SEARCH CRITERIA: State: \"California\"-School De...                 NaN   \n",
       "12  NCES is not responsible for the manner in whic...                 NaN   \n",
       "13                                     NCES School ID     State School ID   \n",
       "14                                       060429013779  CA-3366993-0129882   \n",
       "15                                       060162010232  CA-1964212-1995596   \n",
       "16                                       063762002045  CA-1563776-1530377   \n",
       "17                                       063315005148  CA-3367215-3336955   \n",
       "18                                       063459005696  CA-4369666-4333795   \n",
       "19                                       062271003139  CA-1964733-1935121   \n",
       "\n",
       "          Unnamed: 2         Unnamed: 3  Unnamed: 4   Unnamed: 5  \\\n",
       "0                NaN                NaN         NaN          NaN   \n",
       "1                NaN                NaN         NaN          NaN   \n",
       "2                NaN                NaN         NaN          NaN   \n",
       "3                NaN                NaN         NaN          NaN   \n",
       "4                NaN                NaN         NaN          NaN   \n",
       "5                NaN                NaN         NaN          NaN   \n",
       "6                NaN                NaN         NaN          NaN   \n",
       "7                NaN                NaN         NaN          NaN   \n",
       "8                NaN                NaN         NaN          NaN   \n",
       "9                NaN                NaN         NaN          NaN   \n",
       "10               NaN                NaN         NaN          NaN   \n",
       "11               NaN                NaN         NaN          NaN   \n",
       "12               NaN                NaN         NaN          NaN   \n",
       "13  NCES District ID  State District ID  Low Grade*  High Grade*   \n",
       "14           0604290         CA-3366993          KG           12   \n",
       "15           0601620         CA-1964212          07           12   \n",
       "16           0637620         CA-1563776          KG           12   \n",
       "17           0633150         CA-3367215          09           12   \n",
       "18           0634590         CA-4369666          09           12   \n",
       "19           0622710         CA-1964733          09           12   \n",
       "\n",
       "                         Unnamed: 6             Unnamed: 7  \\\n",
       "0                               NaN                    NaN   \n",
       "1                               NaN                    NaN   \n",
       "2                               NaN                    NaN   \n",
       "3                               NaN                    NaN   \n",
       "4                               NaN                    NaN   \n",
       "5                               NaN                    NaN   \n",
       "6                               NaN                    NaN   \n",
       "7                               NaN                    NaN   \n",
       "8                               NaN                    NaN   \n",
       "9                               NaN                    NaN   \n",
       "10                              NaN                    NaN   \n",
       "11                              NaN                    NaN   \n",
       "12                              NaN                    NaN   \n",
       "13                      School Name               District   \n",
       "14  21st Century Learning Institute       Beaumont Unified   \n",
       "15      ABC Secondary (Alternative)            ABC Unified   \n",
       "16      Abraham Lincoln Alternative  Southern Kern Unified   \n",
       "17     Abraham Lincoln Continuation      Riverside Unified   \n",
       "18             Abraham Lincoln High       San Jose Unified   \n",
       "19      Abraham Lincoln Senior High    Los Angeles Unified   \n",
       "\n",
       "            Unnamed: 8              Unnamed: 9  ...    Unnamed: 16  \\\n",
       "0                  NaN                     NaN  ...            NaN   \n",
       "1                  NaN                     NaN  ...            NaN   \n",
       "2                  NaN                     NaN  ...            NaN   \n",
       "3                  NaN                     NaN  ...            NaN   \n",
       "4                  NaN                     NaN  ...            NaN   \n",
       "5                  NaN                     NaN  ...            NaN   \n",
       "6                  NaN                     NaN  ...            NaN   \n",
       "7                  NaN                     NaN  ...            NaN   \n",
       "8                  NaN                     NaN  ...            NaN   \n",
       "9                  NaN                     NaN  ...            NaN   \n",
       "10                 NaN                     NaN  ...            NaN   \n",
       "11                 NaN                     NaN  ...            NaN   \n",
       "12                 NaN                     NaN  ...            NaN   \n",
       "13        County Name*          Street Address  ...        Locale*   \n",
       "14    Riverside County              PO Box 187  ...  Suburb: Large   \n",
       "15  Los Angeles County  16534 S. Carmenita Rd.  ...  Suburb: Large   \n",
       "16         Kern County     2601 Rosamond Blvd.  ...   Town: Fringe   \n",
       "17    Riverside County      4341 Victoria Ave.  ...    City: Large   \n",
       "18  Santa Clara County             123 Test St  ...    City: Large   \n",
       "19  Los Angeles County         3501 N. BRd.way  ...    City: Large   \n",
       "\n",
       "   Unnamed: 17 Unnamed: 18      Unnamed: 19           Unnamed: 20 Unnamed: 21  \\\n",
       "0          NaN         NaN              NaN                   NaN         NaN   \n",
       "1          NaN         NaN              NaN                   NaN         NaN   \n",
       "2          NaN         NaN              NaN                   NaN         NaN   \n",
       "3          NaN         NaN              NaN                   NaN         NaN   \n",
       "4          NaN         NaN              NaN                   NaN         NaN   \n",
       "5          NaN         NaN              NaN                   NaN         NaN   \n",
       "6          NaN         NaN              NaN                   NaN         NaN   \n",
       "7          NaN         NaN              NaN                   NaN         NaN   \n",
       "8          NaN         NaN              NaN                   NaN         NaN   \n",
       "9          NaN         NaN              NaN                   NaN         NaN   \n",
       "10         NaN         NaN              NaN                   NaN         NaN   \n",
       "11         NaN         NaN              NaN                   NaN         NaN   \n",
       "12         NaN         NaN              NaN                   NaN         NaN   \n",
       "13     Charter     Magnet*  Title I School*  Title 1 School Wide*   Students*   \n",
       "14          No          No               No                     †    96.00000   \n",
       "15          No          No              Yes                    No    71.00000   \n",
       "16          No          No               No                     †    66.00000   \n",
       "17          No          No              Yes                   Yes   196.00000   \n",
       "18          No          No              Yes                   Yes  1725.00000   \n",
       "19          No         Yes              Yes                   Yes  1103.00000   \n",
       "\n",
       "   Unnamed: 22             Unnamed: 23  Unnamed: 24     Unnamed: 25  \n",
       "0          NaN                     NaN          NaN             NaN  \n",
       "1          NaN                     NaN          NaN             NaN  \n",
       "2          NaN                     NaN          NaN             NaN  \n",
       "3          NaN                     NaN          NaN             NaN  \n",
       "4          NaN                     NaN          NaN             NaN  \n",
       "5          NaN                     NaN          NaN             NaN  \n",
       "6          NaN                     NaN          NaN             NaN  \n",
       "7          NaN                     NaN          NaN             NaN  \n",
       "8          NaN                     NaN          NaN             NaN  \n",
       "9          NaN                     NaN          NaN             NaN  \n",
       "10         NaN                     NaN          NaN             NaN  \n",
       "11         NaN                     NaN          NaN             NaN  \n",
       "12         NaN                     NaN          NaN             NaN  \n",
       "13   Teachers*  Student Teacher Ratio*  Free Lunch*  Reduced Lunch*  \n",
       "14           –                       †     46.00000         6.00000  \n",
       "15           –                       †     38.00000         0.00000  \n",
       "16           –                       †     48.00000         2.00000  \n",
       "17           –                       †    163.00000        17.00000  \n",
       "18           –                       †    724.00000       162.00000  \n",
       "19           –                       †    998.00000        60.00000  \n",
       "\n",
       "[20 rows x 26 columns]"
      ]
     },
     "execution_count": 8,
     "metadata": {},
     "output_type": "execute_result"
    }
   ],
   "source": [
    "nces.head(20) #Displaying extra rows because this data was a real mess"
   ]
  },
  {
   "cell_type": "markdown",
   "metadata": {},
   "source": [
    "#### Checking for missing values\n",
    "\n",
    "The SAT 2019 data is not missing any values, but the SAT-California data had quite a few nulls in columns that are important to this project, namely information about students' test scores. "
   ]
  },
  {
   "cell_type": "code",
   "execution_count": 9,
   "metadata": {},
   "outputs": [
    {
     "data": {
      "text/plain": [
       "State                 0\n",
       "Participation Rate    0\n",
       "EBRW                  0\n",
       "Math                  0\n",
       "Total                 0\n",
       "dtype: int64"
      ]
     },
     "execution_count": 9,
     "metadata": {},
     "output_type": "execute_result"
    }
   ],
   "source": [
    "sat_2019.isnull().sum()"
   ]
  },
  {
   "cell_type": "code",
   "execution_count": 10,
   "metadata": {},
   "outputs": [
    {
     "data": {
      "text/plain": [
       "CDS                         1\n",
       "CCode                       1\n",
       "CDCode                      1\n",
       "SCode                       1\n",
       "RType                       1\n",
       "SName                     598\n",
       "DName                      59\n",
       "CName                       1\n",
       "Enroll12                    1\n",
       "NumTSTTakr12                1\n",
       "NumERWBenchmark12         276\n",
       "PctERWBenchmark12         276\n",
       "NumMathBenchmark12        276\n",
       "PctMathBenchmark12        276\n",
       "Enroll11                    1\n",
       "NumTSTTakr11                1\n",
       "NumERWBenchmark11         311\n",
       "PctERWBenchmark11         311\n",
       "NumMathBenchmark11        311\n",
       "PctMathBenchmark11        311\n",
       "TotNumBothBenchmark12     276\n",
       "PctBothBenchmark12        276\n",
       "TotNumBothBenchmark11     311\n",
       "PctBothBenchmark11        311\n",
       "Year                        1\n",
       "Unnamed: 25              2580\n",
       "dtype: int64"
      ]
     },
     "execution_count": 10,
     "metadata": {},
     "output_type": "execute_result"
    }
   ],
   "source": [
    "sat_ca.isnull().sum()"
   ]
  },
  {
   "cell_type": "markdown",
   "metadata": {},
   "source": [
    "The NCES data initially looked okay in terms of nulls, save for the 13 rows that will very soon be deleted. The column called \"Unnamed: 13\" has 494 nulls, but it turns out this column is for the extra four digits in a US ZIP code, so it's not important to this data set. I'll end up deleting the entire column. \n",
    "\n",
    "However, some of the non-null values in other columns are actually non-numerical characters such as `*` or `-` which either need to be stripped and replaced with `nan`, or the remaining characters converted to `int` and `float`. "
   ]
  },
  {
   "cell_type": "code",
   "execution_count": 11,
   "metadata": {},
   "outputs": [
    {
     "data": {
      "text/plain": [
       "National Center for Education Statistics      2\n",
       "Unnamed: 1                                   13\n",
       "Unnamed: 2                                   13\n",
       "Unnamed: 3                                   13\n",
       "Unnamed: 4                                   13\n",
       "Unnamed: 5                                   13\n",
       "Unnamed: 6                                   13\n",
       "Unnamed: 7                                   13\n",
       "Unnamed: 8                                   13\n",
       "Unnamed: 9                                   13\n",
       "Unnamed: 10                                  13\n",
       "Unnamed: 11                                  13\n",
       "Unnamed: 12                                  13\n",
       "Unnamed: 13                                 494\n",
       "Unnamed: 14                                  13\n",
       "Unnamed: 15                                  13\n",
       "Unnamed: 16                                  13\n",
       "Unnamed: 17                                  13\n",
       "Unnamed: 18                                  13\n",
       "Unnamed: 19                                  13\n",
       "Unnamed: 20                                  13\n",
       "Unnamed: 21                                  13\n",
       "Unnamed: 22                                  13\n",
       "Unnamed: 23                                  13\n",
       "Unnamed: 24                                  13\n",
       "Unnamed: 25                                  13\n",
       "dtype: int64"
      ]
     },
     "execution_count": 11,
     "metadata": {},
     "output_type": "execute_result"
    }
   ],
   "source": [
    "nces.isnull().sum()"
   ]
  },
  {
   "cell_type": "markdown",
   "metadata": {},
   "source": [
    "#### Identifying obvious issues"
   ]
  },
  {
   "cell_type": "markdown",
   "metadata": {},
   "source": [
    "The SAT data sets both have several columns that seem like they should be a `float` but are an `object`. These are the columns called \"Participation Rate\" or anything else with the abbreviation \"Pct\" in the name. "
   ]
  },
  {
   "cell_type": "code",
   "execution_count": 12,
   "metadata": {},
   "outputs": [
    {
     "name": "stdout",
     "output_type": "stream",
     "text": [
      "<class 'pandas.core.frame.DataFrame'>\n",
      "RangeIndex: 53 entries, 0 to 52\n",
      "Data columns (total 5 columns):\n",
      " #   Column              Non-Null Count  Dtype \n",
      "---  ------              --------------  ----- \n",
      " 0   State               53 non-null     object\n",
      " 1   Participation Rate  53 non-null     object\n",
      " 2   EBRW                53 non-null     int64 \n",
      " 3   Math                53 non-null     int64 \n",
      " 4   Total               53 non-null     int64 \n",
      "dtypes: int64(3), object(2)\n",
      "memory usage: 2.2+ KB\n"
     ]
    }
   ],
   "source": [
    "sat_2019.info() "
   ]
  },
  {
   "cell_type": "markdown",
   "metadata": {},
   "source": [
    "In addition to the percent values mentioned above, the SAT-California data set contains several columns with the abbreviation \"Num\" that are also `object` rather than `int`. It also has some opaque column names. "
   ]
  },
  {
   "cell_type": "code",
   "execution_count": 13,
   "metadata": {},
   "outputs": [
    {
     "name": "stdout",
     "output_type": "stream",
     "text": [
      "<class 'pandas.core.frame.DataFrame'>\n",
      "RangeIndex: 2580 entries, 0 to 2579\n",
      "Data columns (total 26 columns):\n",
      " #   Column                 Non-Null Count  Dtype  \n",
      "---  ------                 --------------  -----  \n",
      " 0   CDS                    2579 non-null   float64\n",
      " 1   CCode                  2579 non-null   float64\n",
      " 2   CDCode                 2579 non-null   float64\n",
      " 3   SCode                  2579 non-null   float64\n",
      " 4   RType                  2579 non-null   object \n",
      " 5   SName                  1982 non-null   object \n",
      " 6   DName                  2521 non-null   object \n",
      " 7   CName                  2579 non-null   object \n",
      " 8   Enroll12               2579 non-null   float64\n",
      " 9   NumTSTTakr12           2579 non-null   float64\n",
      " 10  NumERWBenchmark12      2304 non-null   object \n",
      " 11  PctERWBenchmark12      2304 non-null   object \n",
      " 12  NumMathBenchmark12     2304 non-null   object \n",
      " 13  PctMathBenchmark12     2304 non-null   object \n",
      " 14  Enroll11               2579 non-null   float64\n",
      " 15  NumTSTTakr11           2579 non-null   float64\n",
      " 16  NumERWBenchmark11      2269 non-null   object \n",
      " 17  PctERWBenchmark11      2269 non-null   object \n",
      " 18  NumMathBenchmark11     2269 non-null   object \n",
      " 19  PctMathBenchmark11     2269 non-null   object \n",
      " 20  TotNumBothBenchmark12  2304 non-null   object \n",
      " 21  PctBothBenchmark12     2304 non-null   object \n",
      " 22  TotNumBothBenchmark11  2269 non-null   object \n",
      " 23  PctBothBenchmark11     2269 non-null   object \n",
      " 24  Year                   2579 non-null   object \n",
      " 25  Unnamed: 25            0 non-null      float64\n",
      "dtypes: float64(9), object(17)\n",
      "memory usage: 524.2+ KB\n"
     ]
    }
   ],
   "source": [
    "sat_ca.info()"
   ]
  },
  {
   "cell_type": "markdown",
   "metadata": {},
   "source": [
    "The NCES data has no column names, which makes it very hard to use. It also likely has a lot of wrong data types, because the first 12 rows contain strings that explain the data. The thirteenth row contains the column names, and the data itself starts on row 14. In addition, some columns that I would expect to be `int` or `float` contain non-numerical characters such as `*` when the value is missing. \n",
    "\n",
    "That means that every series is typed as `object`! Non-numerical characters will need to be stripped from those values and then what remains can be converted to `int` or `float`. "
   ]
  },
  {
   "cell_type": "code",
   "execution_count": 14,
   "metadata": {},
   "outputs": [
    {
     "name": "stdout",
     "output_type": "stream",
     "text": [
      "<class 'pandas.core.frame.DataFrame'>\n",
      "RangeIndex: 2790 entries, 0 to 2789\n",
      "Data columns (total 26 columns):\n",
      " #   Column                                    Non-Null Count  Dtype \n",
      "---  ------                                    --------------  ----- \n",
      " 0   National Center for Education Statistics  2788 non-null   object\n",
      " 1   Unnamed: 1                                2777 non-null   object\n",
      " 2   Unnamed: 2                                2777 non-null   object\n",
      " 3   Unnamed: 3                                2777 non-null   object\n",
      " 4   Unnamed: 4                                2777 non-null   object\n",
      " 5   Unnamed: 5                                2777 non-null   object\n",
      " 6   Unnamed: 6                                2777 non-null   object\n",
      " 7   Unnamed: 7                                2777 non-null   object\n",
      " 8   Unnamed: 8                                2777 non-null   object\n",
      " 9   Unnamed: 9                                2777 non-null   object\n",
      " 10  Unnamed: 10                               2777 non-null   object\n",
      " 11  Unnamed: 11                               2777 non-null   object\n",
      " 12  Unnamed: 12                               2777 non-null   object\n",
      " 13  Unnamed: 13                               2296 non-null   object\n",
      " 14  Unnamed: 14                               2777 non-null   object\n",
      " 15  Unnamed: 15                               2777 non-null   object\n",
      " 16  Unnamed: 16                               2777 non-null   object\n",
      " 17  Unnamed: 17                               2777 non-null   object\n",
      " 18  Unnamed: 18                               2777 non-null   object\n",
      " 19  Unnamed: 19                               2777 non-null   object\n",
      " 20  Unnamed: 20                               2777 non-null   object\n",
      " 21  Unnamed: 21                               2777 non-null   object\n",
      " 22  Unnamed: 22                               2777 non-null   object\n",
      " 23  Unnamed: 23                               2777 non-null   object\n",
      " 24  Unnamed: 24                               2777 non-null   object\n",
      " 25  Unnamed: 25                               2777 non-null   object\n",
      "dtypes: object(26)\n",
      "memory usage: 566.8+ KB\n"
     ]
    }
   ],
   "source": [
    "nces.info()"
   ]
  },
  {
   "cell_type": "markdown",
   "metadata": {},
   "source": [
    "#### Column maintenance"
   ]
  },
  {
   "cell_type": "markdown",
   "metadata": {},
   "source": [
    "I can't do much with the NCES data until the columns are re-named. Luckily, the real names of the columns are in row 13 of the data frame. I also need to fix the SAT data columns so that all are lowercase and spaces are removed. To do this, I set up dictionaries for each of the three data frames with the new column names and mapped them onto them. Then I verified the new column names. "
   ]
  },
  {
   "cell_type": "code",
   "execution_count": 15,
   "metadata": {},
   "outputs": [
    {
     "data": {
      "text/plain": [
       "Index(['nces_scid', 'state_scid', 'nces_distid', 'state_distid',\n",
       "       'lowest_grade', 'highest_grade', 'school_name', 'district', 'county',\n",
       "       'address', 'city', 'state', 'zip', 'zip4', 'phone', 'locale_code',\n",
       "       'locale', 'charter', 'magnet', 'title_1', 'title_1_wide',\n",
       "       'num_students', 'num_teachers', 'teacher_student_ratio', 'free_lunch',\n",
       "       'reduced_lunch'],\n",
       "      dtype='object')"
      ]
     },
     "execution_count": 15,
     "metadata": {},
     "output_type": "execute_result"
    }
   ],
   "source": [
    "new_columns_dict = {\n",
    "    'National Center for Education Statistics': 'nces_scid', \n",
    "    'Unnamed: 1' : 'state_scid',\n",
    "    'Unnamed: 2' : 'nces_distid',\n",
    "    'Unnamed: 3' : 'state_distid', \n",
    "    'Unnamed: 4' : 'lowest_grade', \n",
    "    'Unnamed: 5' : 'highest_grade', \n",
    "    'Unnamed: 6' : 'school_name', \n",
    "    'Unnamed: 7' : 'district',\n",
    "    'Unnamed: 8' : 'county', \n",
    "    'Unnamed: 9' : 'address', \n",
    "    'Unnamed: 10' : 'city', \n",
    "    'Unnamed: 11' : 'state', \n",
    "    'Unnamed: 12' : 'zip',\n",
    "    'Unnamed: 13' : 'zip4', \n",
    "    'Unnamed: 14' : 'phone', \n",
    "    'Unnamed: 15' : 'locale_code', \n",
    "    'Unnamed: 16' : 'locale',\n",
    "    'Unnamed: 17' : 'charter', \n",
    "    'Unnamed: 18' : 'magnet', \n",
    "    'Unnamed: 19' : 'title_1', \n",
    "    'Unnamed: 20' : 'title_1_wide',\n",
    "    'Unnamed: 21' : 'num_students', \n",
    "    'Unnamed: 22' : 'num_teachers', \n",
    "    'Unnamed: 23' : 'teacher_student_ratio', \n",
    "    'Unnamed: 24' : 'free_lunch',\n",
    "    'Unnamed: 25' : 'reduced_lunch'\n",
    "}\n",
    "nces.rename(columns = new_columns_dict, inplace = True)\n",
    "nces.columns"
   ]
  },
  {
   "cell_type": "code",
   "execution_count": 16,
   "metadata": {},
   "outputs": [
    {
     "data": {
      "text/plain": [
       "Index(['school_id', 'ccode', 'cdcode', 'scode', 'rtype', 'school_name',\n",
       "       'district', 'county', 'enrollment_12', 'test_takers_12',\n",
       "       'num_erw_benchmark_12', 'pct_erw_benchmark_met_12',\n",
       "       'num_math_benchmark_12', 'pct_math_benchmark_met_12', 'enrollment_11',\n",
       "       'test_takers_11', 'num_erw_benchmark_11', 'pct_erw_benchmark_met_11',\n",
       "       'num_math_benchmark_11', 'pct_math_benchmark_met_11',\n",
       "       'total_both_benchmark_12', 'pct_both_benchmarks_met_12',\n",
       "       'total_both_benchmarks_11', 'pct_both_benchmarks_11', 'school_year',\n",
       "       'empty'],\n",
       "      dtype='object')"
      ]
     },
     "execution_count": 16,
     "metadata": {},
     "output_type": "execute_result"
    }
   ],
   "source": [
    "new_columns_dict2 = {\n",
    "    'CDS' : 'school_id', \n",
    "    'CCode' : 'ccode', \n",
    "    'CDCode' : 'cdcode', \n",
    "    'SCode' : 'scode', \n",
    "    'RType' : 'rtype', \n",
    "    'SName' : 'school_name', \n",
    "    'DName' : 'district', \n",
    "    'CName' : 'county',\n",
    "    'Enroll12': 'enrollment_12', \n",
    "    'NumTSTTakr12' : 'test_takers_12', \n",
    "    'NumERWBenchmark12' : 'num_erw_benchmark_12', \n",
    "    'PctERWBenchmark12' : 'pct_erw_benchmark_met_12',\n",
    "    'NumMathBenchmark12' : 'num_math_benchmark_12', \n",
    "    'PctMathBenchmark12' : 'pct_math_benchmark_met_12', \n",
    "    'Enroll11' : 'enrollment_11', \n",
    "    'NumTSTTakr11' : 'test_takers_11',\n",
    "    'NumERWBenchmark11' : 'num_erw_benchmark_11', \n",
    "    'PctERWBenchmark11' : 'pct_erw_benchmark_met_11', \n",
    "    'NumMathBenchmark11' : 'num_math_benchmark_11',\n",
    "    'PctMathBenchmark11' : 'pct_math_benchmark_met_11', \n",
    "    'TotNumBothBenchmark12' : 'total_both_benchmark_12', \n",
    "    'PctBothBenchmark12' : 'pct_both_benchmarks_met_12',\n",
    "    'TotNumBothBenchmark11' : 'total_both_benchmarks_11', \n",
    "    'PctBothBenchmark11' : 'pct_both_benchmarks_11', \n",
    "    'Year' : 'school_year', \n",
    "    'Unnamed: 25' : 'empty'\n",
    "}\n",
    "sat_ca.rename(columns = new_columns_dict2, inplace = True)\n",
    "sat_ca.columns"
   ]
  },
  {
   "cell_type": "code",
   "execution_count": 17,
   "metadata": {},
   "outputs": [
    {
     "data": {
      "text/plain": [
       "Index(['state', 'participation_rate', 'avg_reading_writing_score',\n",
       "       'avg_math_score', 'avg_total_score'],\n",
       "      dtype='object')"
      ]
     },
     "execution_count": 17,
     "metadata": {},
     "output_type": "execute_result"
    }
   ],
   "source": [
    "new_columns_dict3 = {\n",
    "    'State' : 'state', \n",
    "    'Participation Rate' : 'participation_rate', \n",
    "    'EBRW' : 'avg_reading_writing_score', \n",
    "    'Math' : 'avg_math_score', \n",
    "    'Total' : 'avg_total_score'\n",
    "}\n",
    "sat_2019.rename(columns = new_columns_dict3, inplace = True)\n",
    "sat_2019.columns"
   ]
  },
  {
   "cell_type": "markdown",
   "metadata": {},
   "source": [
    "The NCES dataset will need to go through a few rounds of removing nulls. First, I'm going to get rid of the unimportant zip code column, so that I don't accidentally delete rows with good data when I drop null values later.  "
   ]
  },
  {
   "cell_type": "code",
   "execution_count": 18,
   "metadata": {},
   "outputs": [],
   "source": [
    "nces.drop(columns = 'zip4', inplace = True)"
   ]
  },
  {
   "cell_type": "markdown",
   "metadata": {},
   "source": [
    "That means that currently, the only cells with nulls are the 12 rows at the top. Removing null values at this point is one easy way to get rid of those rows. "
   ]
  },
  {
   "cell_type": "code",
   "execution_count": 19,
   "metadata": {},
   "outputs": [
    {
     "data": {
      "text/plain": [
       "nces_scid                 2\n",
       "state_scid               13\n",
       "nces_distid              13\n",
       "state_distid             13\n",
       "lowest_grade             13\n",
       "highest_grade            13\n",
       "school_name              13\n",
       "district                 13\n",
       "county                   13\n",
       "address                  13\n",
       "city                     13\n",
       "state                    13\n",
       "zip                      13\n",
       "phone                    13\n",
       "locale_code              13\n",
       "locale                   13\n",
       "charter                  13\n",
       "magnet                   13\n",
       "title_1                  13\n",
       "title_1_wide             13\n",
       "num_students             13\n",
       "num_teachers             13\n",
       "teacher_student_ratio    13\n",
       "free_lunch               13\n",
       "reduced_lunch            13\n",
       "dtype: int64"
      ]
     },
     "execution_count": 19,
     "metadata": {},
     "output_type": "execute_result"
    }
   ],
   "source": [
    "nces.isnull().sum()"
   ]
  },
  {
   "cell_type": "code",
   "execution_count": 20,
   "metadata": {},
   "outputs": [],
   "source": [
    "nces.dropna(inplace = True)"
   ]
  },
  {
   "cell_type": "markdown",
   "metadata": {},
   "source": [
    "This leaves the extra header row at the top of the NCES table. Using `iloc` I sliced off that row and re-saved the NCES data (somewhat optimistically) as `nces_clean`. "
   ]
  },
  {
   "cell_type": "code",
   "execution_count": 21,
   "metadata": {},
   "outputs": [
    {
     "data": {
      "text/plain": [
       "nces_scid                        NCES School ID\n",
       "state_scid                      State School ID\n",
       "nces_distid                    NCES District ID\n",
       "state_distid                  State District ID\n",
       "lowest_grade                         Low Grade*\n",
       "highest_grade                       High Grade*\n",
       "school_name                         School Name\n",
       "district                               District\n",
       "county                             County Name*\n",
       "address                          Street Address\n",
       "city                                       City\n",
       "state                                     State\n",
       "zip                                         ZIP\n",
       "phone                                     Phone\n",
       "locale_code                        Locale Code*\n",
       "locale                                  Locale*\n",
       "charter                                 Charter\n",
       "magnet                                  Magnet*\n",
       "title_1                         Title I School*\n",
       "title_1_wide               Title 1 School Wide*\n",
       "num_students                          Students*\n",
       "num_teachers                          Teachers*\n",
       "teacher_student_ratio    Student Teacher Ratio*\n",
       "free_lunch                          Free Lunch*\n",
       "reduced_lunch                    Reduced Lunch*\n",
       "Name: 13, dtype: object"
      ]
     },
     "execution_count": 21,
     "metadata": {},
     "output_type": "execute_result"
    }
   ],
   "source": [
    "nces.iloc[0,0:]"
   ]
  },
  {
   "cell_type": "code",
   "execution_count": 22,
   "metadata": {},
   "outputs": [
    {
     "data": {
      "text/html": [
       "<div>\n",
       "<style scoped>\n",
       "    .dataframe tbody tr th:only-of-type {\n",
       "        vertical-align: middle;\n",
       "    }\n",
       "\n",
       "    .dataframe tbody tr th {\n",
       "        vertical-align: top;\n",
       "    }\n",
       "\n",
       "    .dataframe thead th {\n",
       "        text-align: right;\n",
       "    }\n",
       "</style>\n",
       "<table border=\"1\" class=\"dataframe\">\n",
       "  <thead>\n",
       "    <tr style=\"text-align: right;\">\n",
       "      <th></th>\n",
       "      <th>nces_scid</th>\n",
       "      <th>state_scid</th>\n",
       "      <th>nces_distid</th>\n",
       "      <th>state_distid</th>\n",
       "      <th>lowest_grade</th>\n",
       "      <th>highest_grade</th>\n",
       "      <th>school_name</th>\n",
       "      <th>district</th>\n",
       "      <th>county</th>\n",
       "      <th>address</th>\n",
       "      <th>...</th>\n",
       "      <th>locale</th>\n",
       "      <th>charter</th>\n",
       "      <th>magnet</th>\n",
       "      <th>title_1</th>\n",
       "      <th>title_1_wide</th>\n",
       "      <th>num_students</th>\n",
       "      <th>num_teachers</th>\n",
       "      <th>teacher_student_ratio</th>\n",
       "      <th>free_lunch</th>\n",
       "      <th>reduced_lunch</th>\n",
       "    </tr>\n",
       "  </thead>\n",
       "  <tbody>\n",
       "    <tr>\n",
       "      <th>14</th>\n",
       "      <td>060429013779</td>\n",
       "      <td>CA-3366993-0129882</td>\n",
       "      <td>0604290</td>\n",
       "      <td>CA-3366993</td>\n",
       "      <td>KG</td>\n",
       "      <td>12</td>\n",
       "      <td>21st Century Learning Institute</td>\n",
       "      <td>Beaumont Unified</td>\n",
       "      <td>Riverside County</td>\n",
       "      <td>PO Box 187</td>\n",
       "      <td>...</td>\n",
       "      <td>Suburb: Large</td>\n",
       "      <td>No</td>\n",
       "      <td>No</td>\n",
       "      <td>No</td>\n",
       "      <td>†</td>\n",
       "      <td>96.00000</td>\n",
       "      <td>–</td>\n",
       "      <td>†</td>\n",
       "      <td>46.00000</td>\n",
       "      <td>6.00000</td>\n",
       "    </tr>\n",
       "    <tr>\n",
       "      <th>15</th>\n",
       "      <td>060162010232</td>\n",
       "      <td>CA-1964212-1995596</td>\n",
       "      <td>0601620</td>\n",
       "      <td>CA-1964212</td>\n",
       "      <td>07</td>\n",
       "      <td>12</td>\n",
       "      <td>ABC Secondary (Alternative)</td>\n",
       "      <td>ABC Unified</td>\n",
       "      <td>Los Angeles County</td>\n",
       "      <td>16534 S. Carmenita Rd.</td>\n",
       "      <td>...</td>\n",
       "      <td>Suburb: Large</td>\n",
       "      <td>No</td>\n",
       "      <td>No</td>\n",
       "      <td>Yes</td>\n",
       "      <td>No</td>\n",
       "      <td>71.00000</td>\n",
       "      <td>–</td>\n",
       "      <td>†</td>\n",
       "      <td>38.00000</td>\n",
       "      <td>0.00000</td>\n",
       "    </tr>\n",
       "    <tr>\n",
       "      <th>16</th>\n",
       "      <td>063762002045</td>\n",
       "      <td>CA-1563776-1530377</td>\n",
       "      <td>0637620</td>\n",
       "      <td>CA-1563776</td>\n",
       "      <td>KG</td>\n",
       "      <td>12</td>\n",
       "      <td>Abraham Lincoln Alternative</td>\n",
       "      <td>Southern Kern Unified</td>\n",
       "      <td>Kern County</td>\n",
       "      <td>2601 Rosamond Blvd.</td>\n",
       "      <td>...</td>\n",
       "      <td>Town: Fringe</td>\n",
       "      <td>No</td>\n",
       "      <td>No</td>\n",
       "      <td>No</td>\n",
       "      <td>†</td>\n",
       "      <td>66.00000</td>\n",
       "      <td>–</td>\n",
       "      <td>†</td>\n",
       "      <td>48.00000</td>\n",
       "      <td>2.00000</td>\n",
       "    </tr>\n",
       "    <tr>\n",
       "      <th>17</th>\n",
       "      <td>063315005148</td>\n",
       "      <td>CA-3367215-3336955</td>\n",
       "      <td>0633150</td>\n",
       "      <td>CA-3367215</td>\n",
       "      <td>09</td>\n",
       "      <td>12</td>\n",
       "      <td>Abraham Lincoln Continuation</td>\n",
       "      <td>Riverside Unified</td>\n",
       "      <td>Riverside County</td>\n",
       "      <td>4341 Victoria Ave.</td>\n",
       "      <td>...</td>\n",
       "      <td>City: Large</td>\n",
       "      <td>No</td>\n",
       "      <td>No</td>\n",
       "      <td>Yes</td>\n",
       "      <td>Yes</td>\n",
       "      <td>196.00000</td>\n",
       "      <td>–</td>\n",
       "      <td>†</td>\n",
       "      <td>163.00000</td>\n",
       "      <td>17.00000</td>\n",
       "    </tr>\n",
       "    <tr>\n",
       "      <th>18</th>\n",
       "      <td>063459005696</td>\n",
       "      <td>CA-4369666-4333795</td>\n",
       "      <td>0634590</td>\n",
       "      <td>CA-4369666</td>\n",
       "      <td>09</td>\n",
       "      <td>12</td>\n",
       "      <td>Abraham Lincoln High</td>\n",
       "      <td>San Jose Unified</td>\n",
       "      <td>Santa Clara County</td>\n",
       "      <td>123 Test St</td>\n",
       "      <td>...</td>\n",
       "      <td>City: Large</td>\n",
       "      <td>No</td>\n",
       "      <td>No</td>\n",
       "      <td>Yes</td>\n",
       "      <td>Yes</td>\n",
       "      <td>1725.00000</td>\n",
       "      <td>–</td>\n",
       "      <td>†</td>\n",
       "      <td>724.00000</td>\n",
       "      <td>162.00000</td>\n",
       "    </tr>\n",
       "  </tbody>\n",
       "</table>\n",
       "<p>5 rows × 25 columns</p>\n",
       "</div>"
      ],
      "text/plain": [
       "       nces_scid          state_scid nces_distid state_distid lowest_grade  \\\n",
       "14  060429013779  CA-3366993-0129882     0604290   CA-3366993           KG   \n",
       "15  060162010232  CA-1964212-1995596     0601620   CA-1964212           07   \n",
       "16  063762002045  CA-1563776-1530377     0637620   CA-1563776           KG   \n",
       "17  063315005148  CA-3367215-3336955     0633150   CA-3367215           09   \n",
       "18  063459005696  CA-4369666-4333795     0634590   CA-4369666           09   \n",
       "\n",
       "   highest_grade                      school_name               district  \\\n",
       "14            12  21st Century Learning Institute       Beaumont Unified   \n",
       "15            12      ABC Secondary (Alternative)            ABC Unified   \n",
       "16            12      Abraham Lincoln Alternative  Southern Kern Unified   \n",
       "17            12     Abraham Lincoln Continuation      Riverside Unified   \n",
       "18            12             Abraham Lincoln High       San Jose Unified   \n",
       "\n",
       "                county                 address  ...         locale charter  \\\n",
       "14    Riverside County              PO Box 187  ...  Suburb: Large      No   \n",
       "15  Los Angeles County  16534 S. Carmenita Rd.  ...  Suburb: Large      No   \n",
       "16         Kern County     2601 Rosamond Blvd.  ...   Town: Fringe      No   \n",
       "17    Riverside County      4341 Victoria Ave.  ...    City: Large      No   \n",
       "18  Santa Clara County             123 Test St  ...    City: Large      No   \n",
       "\n",
       "   magnet title_1 title_1_wide num_students num_teachers  \\\n",
       "14     No      No            †     96.00000            –   \n",
       "15     No     Yes           No     71.00000            –   \n",
       "16     No      No            †     66.00000            –   \n",
       "17     No     Yes          Yes    196.00000            –   \n",
       "18     No     Yes          Yes   1725.00000            –   \n",
       "\n",
       "   teacher_student_ratio free_lunch reduced_lunch  \n",
       "14                     †   46.00000       6.00000  \n",
       "15                     †   38.00000       0.00000  \n",
       "16                     †   48.00000       2.00000  \n",
       "17                     †  163.00000      17.00000  \n",
       "18                     †  724.00000     162.00000  \n",
       "\n",
       "[5 rows x 25 columns]"
      ]
     },
     "execution_count": 22,
     "metadata": {},
     "output_type": "execute_result"
    }
   ],
   "source": [
    "nces_clean = nces.iloc[1:,0:]\n",
    "nces_clean.head()"
   ]
  },
  {
   "cell_type": "markdown",
   "metadata": {},
   "source": [
    "#### Converting data types"
   ]
  },
  {
   "cell_type": "markdown",
   "metadata": {},
   "source": [
    "Now I can start removing non-numerical characters from columns that I need to convert to `float`. First I'll work on the percent columns in the SAT 2019 data frame. In the same function, I'll replace a few non-numerical values with `nan`."
   ]
  },
  {
   "cell_type": "code",
   "execution_count": 23,
   "metadata": {},
   "outputs": [],
   "source": [
    "def convert_pct(x):\n",
    "    '''A percent converter that first checks if the string is made of \n",
    "    a specific non-numeric character present in the data set'''\n",
    "    if x != '—': \n",
    "        return (int(x.strip('%')) * 0.01)\n",
    "\n",
    "sat_2019['participation_rate'] = sat_2019['participation_rate'].map(convert_pct)"
   ]
  },
  {
   "cell_type": "code",
   "execution_count": 24,
   "metadata": {
    "scrolled": true
   },
   "outputs": [
    {
     "data": {
      "text/plain": [
       "state                         object\n",
       "participation_rate           float64\n",
       "avg_reading_writing_score      int64\n",
       "avg_math_score                 int64\n",
       "avg_total_score                int64\n",
       "dtype: object"
      ]
     },
     "execution_count": 24,
     "metadata": {},
     "output_type": "execute_result"
    }
   ],
   "source": [
    "sat_2019.dtypes"
   ]
  },
  {
   "cell_type": "markdown",
   "metadata": {},
   "source": [
    "In both the SAT-California data and the NCES data, whoever put together the data used a variety of special symbol characters to denote missing or problematic data points. I wrote a function to replace those with nulls (based on a function we wrote in class during lesson 2.02) and eventually delete them altogether. "
   ]
  },
  {
   "cell_type": "code",
   "execution_count": 25,
   "metadata": {},
   "outputs": [],
   "source": [
    "def remove_weird_char(x):\n",
    "    if x == '†':\n",
    "        return np.nan\n",
    "    elif x == '–':\n",
    "        return np.nan\n",
    "    elif x == 'None':\n",
    "        return np.nan\n",
    "    elif x == '*':\n",
    "        return np.nan\n",
    "    else:\n",
    "        return float(x)\n",
    "    \n",
    "sat_ca['pct_erw_benchmark_met_12'] = sat_ca['pct_erw_benchmark_met_12'].map(remove_weird_char)\n",
    "sat_ca['pct_math_benchmark_met_12'] = sat_ca['pct_math_benchmark_met_12'].map(remove_weird_char)\n",
    "# sat_ca['pct_erw_benchmark_met_11'] = sat_ca['pct_erw_benchmark_met_11'].map(remove_weird_char)\n",
    "# I accidentally dropped this column at some point, but I could live without it so I moved on. \n",
    "sat_ca['pct_math_benchmark_met_11'] = sat_ca['pct_math_benchmark_met_11'].map(remove_weird_char)\n",
    "sat_ca['pct_both_benchmarks_met_12'] = sat_ca['pct_both_benchmarks_met_12'].map(remove_weird_char)\n",
    "sat_ca['pct_both_benchmarks_11'] = sat_ca['pct_both_benchmarks_11'].map(remove_weird_char)\n",
    "sat_2019['participation_rate'] = sat_2019['participation_rate'].map(remove_weird_char)\n",
    "nces_clean['num_students'] = nces_clean['num_students'].map(remove_weird_char)\n",
    "nces_clean['num_teachers'] = nces_clean['num_teachers'].map(remove_weird_char)\n",
    "nces_clean['teacher_student_ratio'] = nces_clean['teacher_student_ratio'].map(remove_weird_char)\n",
    "nces_clean['free_lunch'] = nces_clean['free_lunch'].map(remove_weird_char)\n",
    "nces_clean['reduced_lunch'] = nces_clean['reduced_lunch'].map(remove_weird_char)"
   ]
  },
  {
   "cell_type": "markdown",
   "metadata": {},
   "source": [
    "Now the data types look much more as expected. (Though recall that I did not clean up some columns that I know I will drop later.)"
   ]
  },
  {
   "cell_type": "code",
   "execution_count": 26,
   "metadata": {},
   "outputs": [
    {
     "data": {
      "text/plain": [
       "nces_scid                 object\n",
       "state_scid                object\n",
       "nces_distid               object\n",
       "state_distid              object\n",
       "lowest_grade              object\n",
       "highest_grade             object\n",
       "school_name               object\n",
       "district                  object\n",
       "county                    object\n",
       "address                   object\n",
       "city                      object\n",
       "state                     object\n",
       "zip                       object\n",
       "phone                     object\n",
       "locale_code               object\n",
       "locale                    object\n",
       "charter                   object\n",
       "magnet                    object\n",
       "title_1                   object\n",
       "title_1_wide              object\n",
       "num_students             float64\n",
       "num_teachers             float64\n",
       "teacher_student_ratio    float64\n",
       "free_lunch               float64\n",
       "reduced_lunch            float64\n",
       "dtype: object"
      ]
     },
     "execution_count": 26,
     "metadata": {},
     "output_type": "execute_result"
    }
   ],
   "source": [
    "nces_clean.dtypes"
   ]
  },
  {
   "cell_type": "code",
   "execution_count": 27,
   "metadata": {
    "scrolled": true
   },
   "outputs": [
    {
     "data": {
      "text/plain": [
       "school_id                     float64\n",
       "ccode                         float64\n",
       "cdcode                        float64\n",
       "scode                         float64\n",
       "rtype                          object\n",
       "school_name                    object\n",
       "district                       object\n",
       "county                         object\n",
       "enrollment_12                 float64\n",
       "test_takers_12                float64\n",
       "num_erw_benchmark_12           object\n",
       "pct_erw_benchmark_met_12      float64\n",
       "num_math_benchmark_12          object\n",
       "pct_math_benchmark_met_12     float64\n",
       "enrollment_11                 float64\n",
       "test_takers_11                float64\n",
       "num_erw_benchmark_11           object\n",
       "pct_erw_benchmark_met_11       object\n",
       "num_math_benchmark_11          object\n",
       "pct_math_benchmark_met_11     float64\n",
       "total_both_benchmark_12        object\n",
       "pct_both_benchmarks_met_12    float64\n",
       "total_both_benchmarks_11       object\n",
       "pct_both_benchmarks_11        float64\n",
       "school_year                    object\n",
       "empty                         float64\n",
       "dtype: object"
      ]
     },
     "execution_count": 27,
     "metadata": {},
     "output_type": "execute_result"
    }
   ],
   "source": [
    "sat_ca.dtypes"
   ]
  },
  {
   "cell_type": "markdown",
   "metadata": {},
   "source": [
    "#### Dropping columns"
   ]
  },
  {
   "cell_type": "markdown",
   "metadata": {},
   "source": [
    "Before I drop null values, I decided to drop columns. Some columns contain many nulls (or all nulls!) but are not actually important to the analysis of the data, such as the `empty` column in the SAT-California data. If I were to drop nulls before dropping these irrelevant columns, I would likely drop a lot of rows that do contain all the information I need and would be otherwise useful to my analysis.\n",
    "\n",
    "The columns that I want to keep are:\n",
    "* The unique school ID so that the tables can be merged\n",
    "* The school name for ease of reference\n",
    "* Any percents that show performance on the SAT\n",
    "* Metrics of student or community poverty\n",
    "* School characteristics: locale, magnet/charter school. I don't *think* I'll use this, but I'm not certain yet. \n",
    "\n",
    "One really disappointing note about the NCES data: This data did not include teacher counts and/or teacher-student ratio. This information is not always available, but it would have been very interesting to compare teacher-student ratio to SAT scores. Instead, I dropped the columns altogether. "
   ]
  },
  {
   "cell_type": "code",
   "execution_count": 28,
   "metadata": {},
   "outputs": [],
   "source": [
    "sat_ca.drop(columns = ['ccode','cdcode','scode','rtype','num_erw_benchmark_12','num_math_benchmark_12','num_erw_benchmark_11','num_math_benchmark_11','total_both_benchmark_12','total_both_benchmarks_11','school_year','empty'], inplace = True)\n",
    "nces_clean.drop(columns = ['nces_scid','nces_distid','state_distid','lowest_grade','highest_grade','address','city','state','zip','phone','locale_code','title_1_wide','num_teachers','teacher_student_ratio'], inplace = True)"
   ]
  },
  {
   "cell_type": "code",
   "execution_count": 29,
   "metadata": {},
   "outputs": [
    {
     "data": {
      "text/plain": [
       "Index(['school_id', 'school_name', 'district', 'county', 'enrollment_12',\n",
       "       'test_takers_12', 'pct_erw_benchmark_met_12',\n",
       "       'pct_math_benchmark_met_12', 'enrollment_11', 'test_takers_11',\n",
       "       'pct_erw_benchmark_met_11', 'pct_math_benchmark_met_11',\n",
       "       'pct_both_benchmarks_met_12', 'pct_both_benchmarks_11'],\n",
       "      dtype='object')"
      ]
     },
     "execution_count": 29,
     "metadata": {},
     "output_type": "execute_result"
    }
   ],
   "source": [
    "sat_ca.columns"
   ]
  },
  {
   "cell_type": "code",
   "execution_count": 30,
   "metadata": {},
   "outputs": [
    {
     "data": {
      "text/plain": [
       "Index(['state_scid', 'school_name', 'district', 'county', 'locale', 'charter',\n",
       "       'magnet', 'title_1', 'num_students', 'free_lunch', 'reduced_lunch'],\n",
       "      dtype='object')"
      ]
     },
     "execution_count": 30,
     "metadata": {},
     "output_type": "execute_result"
    }
   ],
   "source": [
    "nces_clean.columns"
   ]
  },
  {
   "cell_type": "markdown",
   "metadata": {},
   "source": [
    "#### Merging tables"
   ]
  },
  {
   "cell_type": "markdown",
   "metadata": {},
   "source": [
    "Finally, my data is almost ready to merge the two California data sets. The SAT 2019 national data will stand on its own. \n",
    "\n",
    "The only thing I need to do before merging is to ensure that the school IDs are formatted the same in both the SAT and NCES data. NCES has appended a prefix \"CA-\" to the beginning of all its IDs. It also puts a special character in the middle, which the SAT data does not do. Both of those elements need to be stripped, so I wrote functions to do that and mapped them to the NCES data. \n",
    "\n",
    "But first, I duplicated the ID column so that it would be easy to recreate it if my functions didn't work correctly the first time. (They did not.)"
   ]
  },
  {
   "cell_type": "code",
   "execution_count": 31,
   "metadata": {},
   "outputs": [
    {
     "data": {
      "text/html": [
       "<div>\n",
       "<style scoped>\n",
       "    .dataframe tbody tr th:only-of-type {\n",
       "        vertical-align: middle;\n",
       "    }\n",
       "\n",
       "    .dataframe tbody tr th {\n",
       "        vertical-align: top;\n",
       "    }\n",
       "\n",
       "    .dataframe thead th {\n",
       "        text-align: right;\n",
       "    }\n",
       "</style>\n",
       "<table border=\"1\" class=\"dataframe\">\n",
       "  <thead>\n",
       "    <tr style=\"text-align: right;\">\n",
       "      <th></th>\n",
       "      <th>state_scid</th>\n",
       "      <th>school_name</th>\n",
       "      <th>district</th>\n",
       "      <th>county</th>\n",
       "      <th>locale</th>\n",
       "      <th>charter</th>\n",
       "      <th>magnet</th>\n",
       "      <th>title_1</th>\n",
       "      <th>num_students</th>\n",
       "      <th>free_lunch</th>\n",
       "      <th>reduced_lunch</th>\n",
       "      <th>duplicate_state_scid</th>\n",
       "    </tr>\n",
       "  </thead>\n",
       "  <tbody>\n",
       "    <tr>\n",
       "      <th>14</th>\n",
       "      <td>CA-3366993-0129882</td>\n",
       "      <td>21st Century Learning Institute</td>\n",
       "      <td>Beaumont Unified</td>\n",
       "      <td>Riverside County</td>\n",
       "      <td>Suburb: Large</td>\n",
       "      <td>No</td>\n",
       "      <td>No</td>\n",
       "      <td>No</td>\n",
       "      <td>96.0</td>\n",
       "      <td>46.0</td>\n",
       "      <td>6.0</td>\n",
       "      <td>CA-3366993-0129882</td>\n",
       "    </tr>\n",
       "    <tr>\n",
       "      <th>15</th>\n",
       "      <td>CA-1964212-1995596</td>\n",
       "      <td>ABC Secondary (Alternative)</td>\n",
       "      <td>ABC Unified</td>\n",
       "      <td>Los Angeles County</td>\n",
       "      <td>Suburb: Large</td>\n",
       "      <td>No</td>\n",
       "      <td>No</td>\n",
       "      <td>Yes</td>\n",
       "      <td>71.0</td>\n",
       "      <td>38.0</td>\n",
       "      <td>0.0</td>\n",
       "      <td>CA-1964212-1995596</td>\n",
       "    </tr>\n",
       "    <tr>\n",
       "      <th>16</th>\n",
       "      <td>CA-1563776-1530377</td>\n",
       "      <td>Abraham Lincoln Alternative</td>\n",
       "      <td>Southern Kern Unified</td>\n",
       "      <td>Kern County</td>\n",
       "      <td>Town: Fringe</td>\n",
       "      <td>No</td>\n",
       "      <td>No</td>\n",
       "      <td>No</td>\n",
       "      <td>66.0</td>\n",
       "      <td>48.0</td>\n",
       "      <td>2.0</td>\n",
       "      <td>CA-1563776-1530377</td>\n",
       "    </tr>\n",
       "    <tr>\n",
       "      <th>17</th>\n",
       "      <td>CA-3367215-3336955</td>\n",
       "      <td>Abraham Lincoln Continuation</td>\n",
       "      <td>Riverside Unified</td>\n",
       "      <td>Riverside County</td>\n",
       "      <td>City: Large</td>\n",
       "      <td>No</td>\n",
       "      <td>No</td>\n",
       "      <td>Yes</td>\n",
       "      <td>196.0</td>\n",
       "      <td>163.0</td>\n",
       "      <td>17.0</td>\n",
       "      <td>CA-3367215-3336955</td>\n",
       "    </tr>\n",
       "    <tr>\n",
       "      <th>18</th>\n",
       "      <td>CA-4369666-4333795</td>\n",
       "      <td>Abraham Lincoln High</td>\n",
       "      <td>San Jose Unified</td>\n",
       "      <td>Santa Clara County</td>\n",
       "      <td>City: Large</td>\n",
       "      <td>No</td>\n",
       "      <td>No</td>\n",
       "      <td>Yes</td>\n",
       "      <td>1725.0</td>\n",
       "      <td>724.0</td>\n",
       "      <td>162.0</td>\n",
       "      <td>CA-4369666-4333795</td>\n",
       "    </tr>\n",
       "  </tbody>\n",
       "</table>\n",
       "</div>"
      ],
      "text/plain": [
       "            state_scid                      school_name  \\\n",
       "14  CA-3366993-0129882  21st Century Learning Institute   \n",
       "15  CA-1964212-1995596      ABC Secondary (Alternative)   \n",
       "16  CA-1563776-1530377      Abraham Lincoln Alternative   \n",
       "17  CA-3367215-3336955     Abraham Lincoln Continuation   \n",
       "18  CA-4369666-4333795             Abraham Lincoln High   \n",
       "\n",
       "                 district              county         locale charter magnet  \\\n",
       "14       Beaumont Unified    Riverside County  Suburb: Large      No     No   \n",
       "15            ABC Unified  Los Angeles County  Suburb: Large      No     No   \n",
       "16  Southern Kern Unified         Kern County   Town: Fringe      No     No   \n",
       "17      Riverside Unified    Riverside County    City: Large      No     No   \n",
       "18       San Jose Unified  Santa Clara County    City: Large      No     No   \n",
       "\n",
       "   title_1  num_students  free_lunch  reduced_lunch duplicate_state_scid  \n",
       "14      No          96.0        46.0            6.0   CA-3366993-0129882  \n",
       "15     Yes          71.0        38.0            0.0   CA-1964212-1995596  \n",
       "16      No          66.0        48.0            2.0   CA-1563776-1530377  \n",
       "17     Yes         196.0       163.0           17.0   CA-3367215-3336955  \n",
       "18     Yes        1725.0       724.0          162.0   CA-4369666-4333795  "
      ]
     },
     "execution_count": 31,
     "metadata": {},
     "output_type": "execute_result"
    }
   ],
   "source": [
    "nces_clean['duplicate_state_scid'] = nces_clean['state_scid']\n",
    "nces_clean.head()"
   ]
  },
  {
   "cell_type": "markdown",
   "metadata": {},
   "source": [
    "These are the two cleaning functions. "
   ]
  },
  {
   "cell_type": "code",
   "execution_count": 32,
   "metadata": {},
   "outputs": [],
   "source": [
    "def just_scid(idstring):\n",
    "    '''Removes the prefix CA- at the beginning of a string'''\n",
    "    return str(idstring.strip('CA-'))\n",
    "    \n",
    "nces_clean['state_scid'] = nces_clean['state_scid'].map(just_scid)"
   ]
  },
  {
   "cell_type": "code",
   "execution_count": 33,
   "metadata": {},
   "outputs": [],
   "source": [
    "def fix_ids(x):\n",
    "    '''Rebuilds a new string that leaves out a specific unwanted character'''\n",
    "    new_id = ''\n",
    "    for char in x:\n",
    "        if char != '-':\n",
    "            new_id += char\n",
    "    return float(new_id)\n",
    "\n",
    "nces_clean['state_scid'] = nces_clean['state_scid'].map(fix_ids)"
   ]
  },
  {
   "cell_type": "markdown",
   "metadata": {},
   "source": [
    "I found documentation about [how to do a merge](https://pandas.pydata.org/pandas-docs/stable/user_guide/merging.html#) on the pandas website. Because I want to see the correlation between poverty metrics and test scores, I chose the default join, which is an inner join. This type of join only includes rows for which the IDs in the two data sets match. I also chose 'one-to-one' validation, because there should be exactly one ID for each school. "
   ]
  },
  {
   "cell_type": "code",
   "execution_count": 34,
   "metadata": {},
   "outputs": [],
   "source": [
    "nces_sat = pd.merge(\n",
    "    nces_clean,\n",
    "    sat_ca,\n",
    "    left_on = 'state_scid',\n",
    "    right_on = 'school_id',\n",
    "    validate = 'one_to_one')"
   ]
  },
  {
   "cell_type": "markdown",
   "metadata": {},
   "source": [
    "Voila! A new table is created! \n",
    "\n",
    "I had some columns with the same information from both tables, which made it easy to spot-checking that the merge was done correctly. Then I dropped them and re-cleaned the names of the duplicate fields using a dictionary."
   ]
  },
  {
   "cell_type": "code",
   "execution_count": 35,
   "metadata": {},
   "outputs": [],
   "source": [
    "nces_sat.drop(columns = ['school_id', 'school_name_y', 'district_y', 'county_y', 'duplicate_state_scid'], inplace = True)"
   ]
  },
  {
   "cell_type": "code",
   "execution_count": 36,
   "metadata": {},
   "outputs": [],
   "source": [
    "clean_columns_dict = {\n",
    "    'school_name_x' : 'school_name',\n",
    "    'district_x' : 'district',\n",
    "    'county_x' : 'county'\n",
    "}\n",
    "\n",
    "nces_sat.rename(columns = clean_columns_dict, inplace = True)"
   ]
  },
  {
   "cell_type": "markdown",
   "metadata": {},
   "source": [
    "I also finally dropped null values. Most of the remaining nulls were in the columns that show what percent of students met the benchmark, so without those values there would not be much point in keeping those rows of data. "
   ]
  },
  {
   "cell_type": "code",
   "execution_count": 37,
   "metadata": {},
   "outputs": [
    {
     "data": {
      "text/plain": [
       "state_scid                      0\n",
       "school_name                     0\n",
       "district                        0\n",
       "county                          0\n",
       "locale                          0\n",
       "charter                         0\n",
       "magnet                          0\n",
       "title_1                         0\n",
       "num_students                    0\n",
       "free_lunch                      2\n",
       "reduced_lunch                   2\n",
       "enrollment_12                   0\n",
       "test_takers_12                  0\n",
       "pct_erw_benchmark_met_12      474\n",
       "pct_math_benchmark_met_12     474\n",
       "enrollment_11                   0\n",
       "test_takers_11                  0\n",
       "pct_erw_benchmark_met_11      164\n",
       "pct_math_benchmark_met_11     447\n",
       "pct_both_benchmarks_met_12    474\n",
       "pct_both_benchmarks_11        447\n",
       "dtype: int64"
      ]
     },
     "execution_count": 37,
     "metadata": {},
     "output_type": "execute_result"
    }
   ],
   "source": [
    "nces_sat.isnull().sum()"
   ]
  },
  {
   "cell_type": "code",
   "execution_count": 38,
   "metadata": {},
   "outputs": [],
   "source": [
    "nces_sat.dropna(inplace = True)"
   ]
  },
  {
   "cell_type": "code",
   "execution_count": 39,
   "metadata": {},
   "outputs": [],
   "source": [
    "sat_2019.isnull().sum()\n",
    "sat_2019.dropna(inplace = True)"
   ]
  },
  {
   "cell_type": "markdown",
   "metadata": {},
   "source": [
    "#### Adding calculated columns"
   ]
  },
  {
   "cell_type": "markdown",
   "metadata": {},
   "source": [
    "Because eligibility for free and reduced lunch is usually reported together, I decided to create a single column to represent this value. Moreover, the values NCES provided were raw numbers, but the percentage of enrolled students who are eligible is more comparable across schools of different sizes. After this was done, I dropped the original columns. "
   ]
  },
  {
   "cell_type": "code",
   "execution_count": 40,
   "metadata": {},
   "outputs": [],
   "source": [
    "nces_sat['free_reduced_lunch'] = (\n",
    "    (nces_sat['free_lunch'] + nces_sat['reduced_lunch'])/nces_sat['num_students'])"
   ]
  },
  {
   "cell_type": "code",
   "execution_count": 41,
   "metadata": {},
   "outputs": [],
   "source": [
    "nces_sat.drop(columns = ['free_lunch', 'reduced_lunch'], inplace = True)"
   ]
  },
  {
   "cell_type": "markdown",
   "metadata": {},
   "source": [
    "I wanted to be able to compare each school's participation rate in the SAT to the state participation rates in the SAT 2019 data. So I created another percentage column using the number of enrolled students and the number of test takers. "
   ]
  },
  {
   "cell_type": "code",
   "execution_count": 42,
   "metadata": {},
   "outputs": [],
   "source": [
    "nces_sat['sat_participation_rate'] = (nces_sat['test_takers_11'] + nces_sat['test_takers_12']) / (nces_sat['enrollment_12'] + nces_sat['enrollment_11'])"
   ]
  },
  {
   "cell_type": "code",
   "execution_count": 43,
   "metadata": {},
   "outputs": [],
   "source": [
    "nces_sat.drop(columns = ['test_takers_11', 'test_takers_12', 'enrollment_12', 'enrollment_11'], inplace= True)"
   ]
  },
  {
   "cell_type": "markdown",
   "metadata": {},
   "source": [
    "#### Final Files"
   ]
  },
  {
   "cell_type": "markdown",
   "metadata": {},
   "source": [
    "Here are the two final, clean data files. "
   ]
  },
  {
   "cell_type": "code",
   "execution_count": 44,
   "metadata": {},
   "outputs": [],
   "source": [
    "nces_sat_ca_2019 = nces_sat\n",
    "nces_sat_ca_2019.to_csv('nces_sat_ca_2019.csv', index = False)"
   ]
  },
  {
   "cell_type": "code",
   "execution_count": 45,
   "metadata": {},
   "outputs": [],
   "source": [
    "sat_natl_2019 = sat_2019\n",
    "sat_natl_2019.to_csv('sat_natl_2019.csv', index = False)"
   ]
  },
  {
   "cell_type": "code",
   "execution_count": 46,
   "metadata": {},
   "outputs": [],
   "source": [
    "sat_natl_2019 = pd.read_csv('sat_natl_2019.csv')"
   ]
  },
  {
   "cell_type": "markdown",
   "metadata": {},
   "source": [
    "### Data Dictionary"
   ]
  },
  {
   "cell_type": "markdown",
   "metadata": {},
   "source": [
    "Some of the terms in the NCES dataset are also defined in their [data glossary](https://nces.ed.gov/ccd/commonfiles/glossary.asp). "
   ]
  },
  {
   "cell_type": "markdown",
   "metadata": {},
   "source": [
    "|Feature|Type|Dataset|Description|\n",
    "|---|---|---|---|\n",
    "|avg_math_score|int|SAT Natl 2019|the mean average score of all test-takers in the state on the math section of the SAT|\n",
    "|avg_reading_writing_score|int|SAT Natl 2019|the mean average score of all test-takers in the state on the evidence-based reading and writing section of the SAT|\n",
    "|avg_total_score|int|SAT Natl 2019|the mean average score of all test-takers in the state when both subscores on the two sections of the SAT are combined|\n",
    "|charter|object|NCES|Per NCES: A school providing free public elementary and/or secondary education to eligible students under a specific charter granted by the state legislature or other appropriate authority, and designated by such authority to be a charter school. See the [NCES glossary](https://nces.ed.gov/ccd/commonfiles/glossary.asp)|\n",
    "|county|object|NCES, SAT-CA|the county where the school is located|\n",
    "|district|object|NCES, SAT-CA|the school district the school is part of|\n",
    "|free_reduced_lunch|float|NCES|percent of all students at the school who meet the income-based federal eligibility criteria to receive low-cost or no-cost meals through the National School Lunch program|\n",
    "|locale|object|NCES|Per NCES: An indication of school's location relative to a populous area. The locales assigned to school districts are based on the locale code of their schools, weighted by the size of the schools' membership. The urban-centric locale assignment system has been used starting in 2006-07. For more detailed definitions, please see the [NCES glossary](https://nces.ed.gov/ccd/commonfiles/glossary.asp).|\n",
    "|magnet|object|NCES|Per NCES: A special school or program designed to attract students of different racial/ethnic backgrounds for the purpose of reducing, preventing, or eliminating racial isolation (50 percent or more minority enrollment); and/or to provide an academic or social focus on a particular theme (e.g., science/math, performing arts, gifted/talented, or foreign language). See the [NCES glossary](https://nces.ed.gov/ccd/commonfiles/glossary.asp)|\n",
    "|num_students|int|NCES|the total enrollment for the school in the 2019-20 school year|\n",
    "|participation_rate|float|SAT Natl 2019|percent of eligible students in the state who took the SAT exam during that school year|\n",
    "|participation_rate|float|SAT-CA|percent of all students enrolled in the school who took the SAT exam as an 11th or 12th grader during that school year|\n",
    "|pct_erw_benchmark_met_12|float|SAT-CA|percentage of 12th grade students meeting the SAT benchmark score in evidence-based reading and writing (ERW)|\n",
    "|pct_math_benchmark_met_12|float|SAT-CA|percentage of 12th grade students meeting the SAT benchmark score in math|\n",
    "|pct_math_benchmark_met_11|float|SAT-CA|percentage of 11th grade students meeting the SAT benchmark score in math|\n",
    "|pct_both_benchmarks_met_12|float|SAT-CA|percentage of 12th grade students meeting both SAT benchmark scores in evidence-based reading and writing and math|\n",
    "|pct_both_benchmarks_11|float|SAT-CA|percentage of 11th grade students meeting both SAT benchmark scores in evidence-based reading and writing and math|\n",
    "|school_name|object|NCES, SAT-CA|the official name of the school|\n",
    "|state|object|all|state, territory, or federally recognized region of the United States|\n",
    "|state_scid|float|NCES, SAT-CA|a unique identifier for each school in the data set| |title_1|object|NCES|Yes/No value indicating if this school receives federal funding under Title I to support core academic programming at low-income schools|"
   ]
  },
  {
   "cell_type": "markdown",
   "metadata": {},
   "source": [
    "## Exploratory Data Analysis"
   ]
  },
  {
   "cell_type": "markdown",
   "metadata": {},
   "source": [
    "### Summary Data"
   ]
  },
  {
   "cell_type": "markdown",
   "metadata": {},
   "source": [
    "First looked at the `.describe()` values for both final data sets. "
   ]
  },
  {
   "cell_type": "code",
   "execution_count": 47,
   "metadata": {},
   "outputs": [
    {
     "data": {
      "text/html": [
       "<div>\n",
       "<style scoped>\n",
       "    .dataframe tbody tr th:only-of-type {\n",
       "        vertical-align: middle;\n",
       "    }\n",
       "\n",
       "    .dataframe tbody tr th {\n",
       "        vertical-align: top;\n",
       "    }\n",
       "\n",
       "    .dataframe thead th {\n",
       "        text-align: right;\n",
       "    }\n",
       "</style>\n",
       "<table border=\"1\" class=\"dataframe\">\n",
       "  <thead>\n",
       "    <tr style=\"text-align: right;\">\n",
       "      <th></th>\n",
       "      <th>participation_rate</th>\n",
       "      <th>avg_reading_writing_score</th>\n",
       "      <th>avg_math_score</th>\n",
       "      <th>avg_total_score</th>\n",
       "    </tr>\n",
       "  </thead>\n",
       "  <tbody>\n",
       "    <tr>\n",
       "      <th>count</th>\n",
       "      <td>51.000000</td>\n",
       "      <td>51.000000</td>\n",
       "      <td>51.000000</td>\n",
       "      <td>51.000000</td>\n",
       "    </tr>\n",
       "    <tr>\n",
       "      <th>mean</th>\n",
       "      <td>0.490588</td>\n",
       "      <td>560.803922</td>\n",
       "      <td>552.196078</td>\n",
       "      <td>1113.078431</td>\n",
       "    </tr>\n",
       "    <tr>\n",
       "      <th>std</th>\n",
       "      <td>0.387476</td>\n",
       "      <td>46.248035</td>\n",
       "      <td>51.290553</td>\n",
       "      <td>97.197910</td>\n",
       "    </tr>\n",
       "    <tr>\n",
       "      <th>min</th>\n",
       "      <td>0.020000</td>\n",
       "      <td>483.000000</td>\n",
       "      <td>460.000000</td>\n",
       "      <td>943.000000</td>\n",
       "    </tr>\n",
       "    <tr>\n",
       "      <th>25%</th>\n",
       "      <td>0.055000</td>\n",
       "      <td>527.500000</td>\n",
       "      <td>511.500000</td>\n",
       "      <td>1038.000000</td>\n",
       "    </tr>\n",
       "    <tr>\n",
       "      <th>50%</th>\n",
       "      <td>0.540000</td>\n",
       "      <td>550.000000</td>\n",
       "      <td>546.000000</td>\n",
       "      <td>1097.000000</td>\n",
       "    </tr>\n",
       "    <tr>\n",
       "      <th>75%</th>\n",
       "      <td>0.820000</td>\n",
       "      <td>612.000000</td>\n",
       "      <td>599.000000</td>\n",
       "      <td>1210.000000</td>\n",
       "    </tr>\n",
       "    <tr>\n",
       "      <th>max</th>\n",
       "      <td>1.000000</td>\n",
       "      <td>636.000000</td>\n",
       "      <td>648.000000</td>\n",
       "      <td>1284.000000</td>\n",
       "    </tr>\n",
       "  </tbody>\n",
       "</table>\n",
       "</div>"
      ],
      "text/plain": [
       "       participation_rate  avg_reading_writing_score  avg_math_score  \\\n",
       "count           51.000000                  51.000000       51.000000   \n",
       "mean             0.490588                 560.803922      552.196078   \n",
       "std              0.387476                  46.248035       51.290553   \n",
       "min              0.020000                 483.000000      460.000000   \n",
       "25%              0.055000                 527.500000      511.500000   \n",
       "50%              0.540000                 550.000000      546.000000   \n",
       "75%              0.820000                 612.000000      599.000000   \n",
       "max              1.000000                 636.000000      648.000000   \n",
       "\n",
       "       avg_total_score  \n",
       "count        51.000000  \n",
       "mean       1113.078431  \n",
       "std          97.197910  \n",
       "min         943.000000  \n",
       "25%        1038.000000  \n",
       "50%        1097.000000  \n",
       "75%        1210.000000  \n",
       "max        1284.000000  "
      ]
     },
     "execution_count": 47,
     "metadata": {},
     "output_type": "execute_result"
    }
   ],
   "source": [
    "sat_natl_2019.describe()"
   ]
  },
  {
   "cell_type": "code",
   "execution_count": 48,
   "metadata": {},
   "outputs": [
    {
     "data": {
      "text/html": [
       "<div>\n",
       "<style scoped>\n",
       "    .dataframe tbody tr th:only-of-type {\n",
       "        vertical-align: middle;\n",
       "    }\n",
       "\n",
       "    .dataframe tbody tr th {\n",
       "        vertical-align: top;\n",
       "    }\n",
       "\n",
       "    .dataframe thead th {\n",
       "        text-align: right;\n",
       "    }\n",
       "</style>\n",
       "<table border=\"1\" class=\"dataframe\">\n",
       "  <thead>\n",
       "    <tr style=\"text-align: right;\">\n",
       "      <th></th>\n",
       "      <th>state_scid</th>\n",
       "      <th>num_students</th>\n",
       "      <th>pct_erw_benchmark_met_12</th>\n",
       "      <th>pct_math_benchmark_met_12</th>\n",
       "      <th>pct_math_benchmark_met_11</th>\n",
       "      <th>pct_both_benchmarks_met_12</th>\n",
       "      <th>pct_both_benchmarks_11</th>\n",
       "      <th>free_reduced_lunch</th>\n",
       "      <th>sat_participation_rate</th>\n",
       "    </tr>\n",
       "  </thead>\n",
       "  <tbody>\n",
       "    <tr>\n",
       "      <th>count</th>\n",
       "      <td>1.018000e+03</td>\n",
       "      <td>1018.000000</td>\n",
       "      <td>1018.000000</td>\n",
       "      <td>1018.000000</td>\n",
       "      <td>1018.000000</td>\n",
       "      <td>1018.000000</td>\n",
       "      <td>1018.000000</td>\n",
       "      <td>1018.000000</td>\n",
       "      <td>1018.000000</td>\n",
       "    </tr>\n",
       "    <tr>\n",
       "      <th>mean</th>\n",
       "      <td>2.906978e+13</td>\n",
       "      <td>1621.724951</td>\n",
       "      <td>68.772210</td>\n",
       "      <td>47.030039</td>\n",
       "      <td>55.381228</td>\n",
       "      <td>44.540265</td>\n",
       "      <td>52.861385</td>\n",
       "      <td>0.581000</td>\n",
       "      <td>0.450843</td>\n",
       "    </tr>\n",
       "    <tr>\n",
       "      <th>std</th>\n",
       "      <td>1.370863e+13</td>\n",
       "      <td>810.832892</td>\n",
       "      <td>20.062193</td>\n",
       "      <td>23.427783</td>\n",
       "      <td>27.118598</td>\n",
       "      <td>23.489281</td>\n",
       "      <td>27.311470</td>\n",
       "      <td>0.260520</td>\n",
       "      <td>0.186480</td>\n",
       "    </tr>\n",
       "    <tr>\n",
       "      <th>min</th>\n",
       "      <td>1.611190e+12</td>\n",
       "      <td>142.000000</td>\n",
       "      <td>2.470000</td>\n",
       "      <td>0.000000</td>\n",
       "      <td>0.000000</td>\n",
       "      <td>0.000000</td>\n",
       "      <td>0.000000</td>\n",
       "      <td>0.012034</td>\n",
       "      <td>0.101322</td>\n",
       "    </tr>\n",
       "    <tr>\n",
       "      <th>25%</th>\n",
       "      <td>1.964733e+13</td>\n",
       "      <td>972.250000</td>\n",
       "      <td>54.415000</td>\n",
       "      <td>28.452500</td>\n",
       "      <td>32.347500</td>\n",
       "      <td>25.197500</td>\n",
       "      <td>29.012500</td>\n",
       "      <td>0.364719</td>\n",
       "      <td>0.304242</td>\n",
       "    </tr>\n",
       "    <tr>\n",
       "      <th>50%</th>\n",
       "      <td>3.066548e+13</td>\n",
       "      <td>1673.500000</td>\n",
       "      <td>72.020000</td>\n",
       "      <td>46.380000</td>\n",
       "      <td>58.375000</td>\n",
       "      <td>43.500000</td>\n",
       "      <td>55.100000</td>\n",
       "      <td>0.618937</td>\n",
       "      <td>0.415165</td>\n",
       "    </tr>\n",
       "    <tr>\n",
       "      <th>75%</th>\n",
       "      <td>3.768411e+13</td>\n",
       "      <td>2173.750000</td>\n",
       "      <td>85.710000</td>\n",
       "      <td>65.350000</td>\n",
       "      <td>78.570000</td>\n",
       "      <td>62.982500</td>\n",
       "      <td>76.445000</td>\n",
       "      <td>0.801871</td>\n",
       "      <td>0.562275</td>\n",
       "    </tr>\n",
       "    <tr>\n",
       "      <th>max</th>\n",
       "      <td>5.872770e+13</td>\n",
       "      <td>4645.000000</td>\n",
       "      <td>100.000000</td>\n",
       "      <td>100.000000</td>\n",
       "      <td>100.000000</td>\n",
       "      <td>100.000000</td>\n",
       "      <td>99.680000</td>\n",
       "      <td>0.994728</td>\n",
       "      <td>1.031579</td>\n",
       "    </tr>\n",
       "  </tbody>\n",
       "</table>\n",
       "</div>"
      ],
      "text/plain": [
       "         state_scid  num_students  pct_erw_benchmark_met_12  \\\n",
       "count  1.018000e+03   1018.000000               1018.000000   \n",
       "mean   2.906978e+13   1621.724951                 68.772210   \n",
       "std    1.370863e+13    810.832892                 20.062193   \n",
       "min    1.611190e+12    142.000000                  2.470000   \n",
       "25%    1.964733e+13    972.250000                 54.415000   \n",
       "50%    3.066548e+13   1673.500000                 72.020000   \n",
       "75%    3.768411e+13   2173.750000                 85.710000   \n",
       "max    5.872770e+13   4645.000000                100.000000   \n",
       "\n",
       "       pct_math_benchmark_met_12  pct_math_benchmark_met_11  \\\n",
       "count                1018.000000                1018.000000   \n",
       "mean                   47.030039                  55.381228   \n",
       "std                    23.427783                  27.118598   \n",
       "min                     0.000000                   0.000000   \n",
       "25%                    28.452500                  32.347500   \n",
       "50%                    46.380000                  58.375000   \n",
       "75%                    65.350000                  78.570000   \n",
       "max                   100.000000                 100.000000   \n",
       "\n",
       "       pct_both_benchmarks_met_12  pct_both_benchmarks_11  free_reduced_lunch  \\\n",
       "count                 1018.000000             1018.000000         1018.000000   \n",
       "mean                    44.540265               52.861385            0.581000   \n",
       "std                     23.489281               27.311470            0.260520   \n",
       "min                      0.000000                0.000000            0.012034   \n",
       "25%                     25.197500               29.012500            0.364719   \n",
       "50%                     43.500000               55.100000            0.618937   \n",
       "75%                     62.982500               76.445000            0.801871   \n",
       "max                    100.000000               99.680000            0.994728   \n",
       "\n",
       "       sat_participation_rate  \n",
       "count             1018.000000  \n",
       "mean                 0.450843  \n",
       "std                  0.186480  \n",
       "min                  0.101322  \n",
       "25%                  0.304242  \n",
       "50%                  0.415165  \n",
       "75%                  0.562275  \n",
       "max                  1.031579  "
      ]
     },
     "execution_count": 48,
     "metadata": {},
     "output_type": "execute_result"
    }
   ],
   "source": [
    "nces_sat.describe()"
   ]
  },
  {
   "cell_type": "markdown",
   "metadata": {},
   "source": [
    "Since this project focuses on California, how did California do overall on the SAT in 2019? It looks like they had a somewhat lower score than average, but higher participation. "
   ]
  },
  {
   "cell_type": "code",
   "execution_count": 49,
   "metadata": {
    "scrolled": true
   },
   "outputs": [
    {
     "data": {
      "text/html": [
       "<div>\n",
       "<style scoped>\n",
       "    .dataframe tbody tr th:only-of-type {\n",
       "        vertical-align: middle;\n",
       "    }\n",
       "\n",
       "    .dataframe tbody tr th {\n",
       "        vertical-align: top;\n",
       "    }\n",
       "\n",
       "    .dataframe thead th {\n",
       "        text-align: right;\n",
       "    }\n",
       "</style>\n",
       "<table border=\"1\" class=\"dataframe\">\n",
       "  <thead>\n",
       "    <tr style=\"text-align: right;\">\n",
       "      <th></th>\n",
       "      <th>state</th>\n",
       "      <th>participation_rate</th>\n",
       "      <th>avg_reading_writing_score</th>\n",
       "      <th>avg_math_score</th>\n",
       "      <th>avg_total_score</th>\n",
       "    </tr>\n",
       "  </thead>\n",
       "  <tbody>\n",
       "    <tr>\n",
       "      <th>4</th>\n",
       "      <td>California</td>\n",
       "      <td>0.63</td>\n",
       "      <td>534</td>\n",
       "      <td>531</td>\n",
       "      <td>1065</td>\n",
       "    </tr>\n",
       "  </tbody>\n",
       "</table>\n",
       "</div>"
      ],
      "text/plain": [
       "        state  participation_rate  avg_reading_writing_score  avg_math_score  \\\n",
       "4  California                0.63                        534             531   \n",
       "\n",
       "   avg_total_score  \n",
       "4             1065  "
      ]
     },
     "execution_count": 49,
     "metadata": {},
     "output_type": "execute_result"
    }
   ],
   "source": [
    "sat_natl_2019[sat_natl_2019['state'] == 'California']"
   ]
  },
  {
   "cell_type": "code",
   "execution_count": 50,
   "metadata": {},
   "outputs": [
    {
     "data": {
      "text/plain": [
       "1113.078431372549"
      ]
     },
     "execution_count": 50,
     "metadata": {},
     "output_type": "execute_result"
    }
   ],
   "source": [
    "sat_natl_2019['avg_total_score'].mean()"
   ]
  },
  {
   "cell_type": "code",
   "execution_count": 51,
   "metadata": {},
   "outputs": [
    {
     "data": {
      "text/plain": [
       "0.49058823529411755"
      ]
     },
     "execution_count": 51,
     "metadata": {},
     "output_type": "execute_result"
    }
   ],
   "source": [
    "sat_natl_2019['participation_rate'].mean()"
   ]
  },
  {
   "cell_type": "markdown",
   "metadata": {},
   "source": [
    "### Standard Deviation"
   ]
  },
  {
   "cell_type": "markdown",
   "metadata": {},
   "source": [
    "I found an extremely relevant bit of code to build the dictionary comprehension here: https://stackoverflow.com/questions/55048445/dictionary-comprehension-to-apply-a-function-to-dataframe-columns"
   ]
  },
  {
   "cell_type": "code",
   "execution_count": 52,
   "metadata": {},
   "outputs": [
    {
     "data": {
      "text/plain": [
       "{'state_scid': 13701894109555.096,\n",
       " 'num_students': 810.4345465307238,\n",
       " 'pct_erw_benchmark_met_12': 20.052337078883358,\n",
       " 'pct_math_benchmark_met_12': 23.41627365119587,\n",
       " 'pct_math_benchmark_met_11': 27.10527555355439,\n",
       " 'pct_both_benchmarks_met_12': 23.477740840189984,\n",
       " 'pct_both_benchmarks_11': 27.298052071581992,\n",
       " 'free_reduced_lunch': 0.2603916193029948,\n",
       " 'sat_participation_rate': 0.1863879593216281}"
      ]
     },
     "execution_count": 52,
     "metadata": {},
     "output_type": "execute_result"
    }
   ],
   "source": [
    "sd_nces_sat = {column.name:stdev(column) for column in [nces_sat[i] for i in nces_sat.columns if (nces_sat[i].dtype=='float64') or (nces_sat[i].dtype=='int64')]}\n",
    "sd_nces_sat"
   ]
  },
  {
   "cell_type": "code",
   "execution_count": 53,
   "metadata": {},
   "outputs": [
    {
     "data": {
      "text/plain": [
       "{'participation_rate': 0.3836584048685726,\n",
       " 'avg_reading_writing_score': 45.792378682545134,\n",
       " 'avg_math_score': 50.78521461840036,\n",
       " 'avg_total_score': 96.24027185617864}"
      ]
     },
     "execution_count": 53,
     "metadata": {},
     "output_type": "execute_result"
    }
   ],
   "source": [
    "sd_sat_natl_2019 = {column.name:stdev(column) for column in [sat_natl_2019[i] for i in sat_natl_2019.columns if (sat_natl_2019[i].dtype=='float64') or (sat_natl_2019[i].dtype=='int64')]}\n",
    "sd_sat_natl_2019"
   ]
  },
  {
   "cell_type": "markdown",
   "metadata": {},
   "source": [
    "### Trends and Questions"
   ]
  },
  {
   "cell_type": "markdown",
   "metadata": {},
   "source": [
    "One thing that stood out was how the participation rate interacted with the test scores. Just looking at the highest and lowest participation rate states, even without a visualization, is very clear. As participation increases, the average total score decreases. "
   ]
  },
  {
   "cell_type": "code",
   "execution_count": 54,
   "metadata": {},
   "outputs": [
    {
     "data": {
      "text/html": [
       "<div>\n",
       "<style scoped>\n",
       "    .dataframe tbody tr th:only-of-type {\n",
       "        vertical-align: middle;\n",
       "    }\n",
       "\n",
       "    .dataframe tbody tr th {\n",
       "        vertical-align: top;\n",
       "    }\n",
       "\n",
       "    .dataframe thead th {\n",
       "        text-align: right;\n",
       "    }\n",
       "</style>\n",
       "<table border=\"1\" class=\"dataframe\">\n",
       "  <thead>\n",
       "    <tr style=\"text-align: right;\">\n",
       "      <th></th>\n",
       "      <th>state</th>\n",
       "      <th>participation_rate</th>\n",
       "      <th>avg_reading_writing_score</th>\n",
       "      <th>avg_math_score</th>\n",
       "      <th>avg_total_score</th>\n",
       "    </tr>\n",
       "  </thead>\n",
       "  <tbody>\n",
       "    <tr>\n",
       "      <th>39</th>\n",
       "      <td>Rhode Island</td>\n",
       "      <td>1.0</td>\n",
       "      <td>503</td>\n",
       "      <td>492</td>\n",
       "      <td>995</td>\n",
       "    </tr>\n",
       "    <tr>\n",
       "      <th>13</th>\n",
       "      <td>Illinois</td>\n",
       "      <td>1.0</td>\n",
       "      <td>509</td>\n",
       "      <td>504</td>\n",
       "      <td>1013</td>\n",
       "    </tr>\n",
       "    <tr>\n",
       "      <th>22</th>\n",
       "      <td>Michigan</td>\n",
       "      <td>1.0</td>\n",
       "      <td>507</td>\n",
       "      <td>496</td>\n",
       "      <td>1003</td>\n",
       "    </tr>\n",
       "    <tr>\n",
       "      <th>5</th>\n",
       "      <td>Colorado</td>\n",
       "      <td>1.0</td>\n",
       "      <td>518</td>\n",
       "      <td>506</td>\n",
       "      <td>1024</td>\n",
       "    </tr>\n",
       "    <tr>\n",
       "      <th>6</th>\n",
       "      <td>Connecticut</td>\n",
       "      <td>1.0</td>\n",
       "      <td>529</td>\n",
       "      <td>516</td>\n",
       "      <td>1046</td>\n",
       "    </tr>\n",
       "  </tbody>\n",
       "</table>\n",
       "</div>"
      ],
      "text/plain": [
       "           state  participation_rate  avg_reading_writing_score  \\\n",
       "39  Rhode Island                 1.0                        503   \n",
       "13      Illinois                 1.0                        509   \n",
       "22      Michigan                 1.0                        507   \n",
       "5       Colorado                 1.0                        518   \n",
       "6    Connecticut                 1.0                        529   \n",
       "\n",
       "    avg_math_score  avg_total_score  \n",
       "39             492              995  \n",
       "13             504             1013  \n",
       "22             496             1003  \n",
       "5              506             1024  \n",
       "6              516             1046  "
      ]
     },
     "execution_count": 54,
     "metadata": {},
     "output_type": "execute_result"
    }
   ],
   "source": [
    "sat_natl_2019.sort_values('participation_rate', ascending = False).head()"
   ]
  },
  {
   "cell_type": "code",
   "execution_count": 55,
   "metadata": {},
   "outputs": [
    {
     "data": {
      "text/html": [
       "<div>\n",
       "<style scoped>\n",
       "    .dataframe tbody tr th:only-of-type {\n",
       "        vertical-align: middle;\n",
       "    }\n",
       "\n",
       "    .dataframe tbody tr th {\n",
       "        vertical-align: top;\n",
       "    }\n",
       "\n",
       "    .dataframe thead th {\n",
       "        text-align: right;\n",
       "    }\n",
       "</style>\n",
       "<table border=\"1\" class=\"dataframe\">\n",
       "  <thead>\n",
       "    <tr style=\"text-align: right;\">\n",
       "      <th></th>\n",
       "      <th>state</th>\n",
       "      <th>participation_rate</th>\n",
       "      <th>avg_reading_writing_score</th>\n",
       "      <th>avg_math_score</th>\n",
       "      <th>avg_total_score</th>\n",
       "    </tr>\n",
       "  </thead>\n",
       "  <tbody>\n",
       "    <tr>\n",
       "      <th>24</th>\n",
       "      <td>Mississippi</td>\n",
       "      <td>0.03</td>\n",
       "      <td>628</td>\n",
       "      <td>608</td>\n",
       "      <td>1237</td>\n",
       "    </tr>\n",
       "    <tr>\n",
       "      <th>15</th>\n",
       "      <td>Iowa</td>\n",
       "      <td>0.03</td>\n",
       "      <td>622</td>\n",
       "      <td>622</td>\n",
       "      <td>1244</td>\n",
       "    </tr>\n",
       "    <tr>\n",
       "      <th>49</th>\n",
       "      <td>Wisconsin</td>\n",
       "      <td>0.03</td>\n",
       "      <td>635</td>\n",
       "      <td>648</td>\n",
       "      <td>1283</td>\n",
       "    </tr>\n",
       "    <tr>\n",
       "      <th>50</th>\n",
       "      <td>Wyoming</td>\n",
       "      <td>0.03</td>\n",
       "      <td>623</td>\n",
       "      <td>615</td>\n",
       "      <td>1238</td>\n",
       "    </tr>\n",
       "    <tr>\n",
       "      <th>34</th>\n",
       "      <td>North Dakota</td>\n",
       "      <td>0.02</td>\n",
       "      <td>627</td>\n",
       "      <td>636</td>\n",
       "      <td>1263</td>\n",
       "    </tr>\n",
       "  </tbody>\n",
       "</table>\n",
       "</div>"
      ],
      "text/plain": [
       "           state  participation_rate  avg_reading_writing_score  \\\n",
       "24   Mississippi                0.03                        628   \n",
       "15          Iowa                0.03                        622   \n",
       "49     Wisconsin                0.03                        635   \n",
       "50       Wyoming                0.03                        623   \n",
       "34  North Dakota                0.02                        627   \n",
       "\n",
       "    avg_math_score  avg_total_score  \n",
       "24             608             1237  \n",
       "15             622             1244  \n",
       "49             648             1283  \n",
       "50             615             1238  \n",
       "34             636             1263  "
      ]
     },
     "execution_count": 55,
     "metadata": {},
     "output_type": "execute_result"
    }
   ],
   "source": [
    "sat_natl_2019.sort_values('participation_rate', ascending = False).tail()"
   ]
  },
  {
   "cell_type": "markdown",
   "metadata": {},
   "source": [
    "This made me wonder if the same trend holds true at the school level -- that is, do schools with lower participation rates also have higher test scores? I created two masks for schools with high and low participation, and then looked at the percent of their 12th graders who got good test scores. \n",
    "\n",
    "It's possible that a more rigorous look would reveal something interesting, but it wasn't immediately obvious, so I ended up moving on. "
   ]
  },
  {
   "cell_type": "code",
   "execution_count": 56,
   "metadata": {},
   "outputs": [
    {
     "data": {
      "text/plain": [
       "37.56653061224488"
      ]
     },
     "execution_count": 56,
     "metadata": {},
     "output_type": "execute_result"
    }
   ],
   "source": [
    "below_state_avg_part = nces_sat[(nces_sat['sat_participation_rate'] < .20)]\n",
    "below_state_avg_part['pct_both_benchmarks_met_12'].mean()\n"
   ]
  },
  {
   "cell_type": "code",
   "execution_count": 57,
   "metadata": {},
   "outputs": [
    {
     "data": {
      "text/plain": [
       "0.7313090801134337"
      ]
     },
     "execution_count": 57,
     "metadata": {},
     "output_type": "execute_result"
    }
   ],
   "source": [
    "above_avg_part = nces_sat[(nces_sat['sat_participation_rate'] >= .80)]\n",
    "above_avg_part['pct_both_benchmarks_met_12'].mean()\n",
    "above_avg_part['free_reduced_lunch'].mean()"
   ]
  },
  {
   "cell_type": "markdown",
   "metadata": {},
   "source": [
    "Then I wondered if schools with high participation rates would have particularly high or low free and reduced lunch eligibility, which might indicate whether or not low-income students were preparing for college. \n",
    "\n",
    "Unfortunately, there wasn't anything noticeably interesting about this comparison either. \n",
    "\n",
    "(Note that while the benchmark met values above are on a percent scale of 0 - 100, the free and reduced lunch values are on a percent scale of 0 - 1.)"
   ]
  },
  {
   "cell_type": "code",
   "execution_count": 58,
   "metadata": {},
   "outputs": [
    {
     "data": {
      "text/plain": [
       "0.7313090801134337"
      ]
     },
     "execution_count": 58,
     "metadata": {},
     "output_type": "execute_result"
    }
   ],
   "source": [
    "above_avg_part['free_reduced_lunch'].mean()"
   ]
  },
  {
   "cell_type": "code",
   "execution_count": 59,
   "metadata": {},
   "outputs": [
    {
     "data": {
      "text/plain": [
       "0.6916793507893003"
      ]
     },
     "execution_count": 59,
     "metadata": {},
     "output_type": "execute_result"
    }
   ],
   "source": [
    "below_state_avg_part['free_reduced_lunch'].mean()"
   ]
  },
  {
   "cell_type": "markdown",
   "metadata": {},
   "source": [
    "I was also curious if either the school's locale or magnet/charter status had any bearing on how well students did on the test. I didn't have time to use this info, but I did run some quick looks at the data that made me think that the locale column in the NCES data would definitely be interesting to investigate further. Even a cursory comparison of the two largest locales -- \"City: Large\" and \"Suburb: Large\" -- shows a fairly large difference in mean values and range of values. \n",
    "\n"
   ]
  },
  {
   "cell_type": "code",
   "execution_count": 60,
   "metadata": {},
   "outputs": [
    {
     "data": {
      "text/html": [
       "<div>\n",
       "<style scoped>\n",
       "    .dataframe tbody tr th:only-of-type {\n",
       "        vertical-align: middle;\n",
       "    }\n",
       "\n",
       "    .dataframe tbody tr th {\n",
       "        vertical-align: top;\n",
       "    }\n",
       "\n",
       "    .dataframe thead th {\n",
       "        text-align: right;\n",
       "    }\n",
       "</style>\n",
       "<table border=\"1\" class=\"dataframe\">\n",
       "  <thead>\n",
       "    <tr style=\"text-align: right;\">\n",
       "      <th></th>\n",
       "      <th>count</th>\n",
       "      <th>mean</th>\n",
       "      <th>std</th>\n",
       "      <th>min</th>\n",
       "      <th>25%</th>\n",
       "      <th>50%</th>\n",
       "      <th>75%</th>\n",
       "      <th>max</th>\n",
       "    </tr>\n",
       "    <tr>\n",
       "      <th>locale</th>\n",
       "      <th></th>\n",
       "      <th></th>\n",
       "      <th></th>\n",
       "      <th></th>\n",
       "      <th></th>\n",
       "      <th></th>\n",
       "      <th></th>\n",
       "      <th></th>\n",
       "    </tr>\n",
       "  </thead>\n",
       "  <tbody>\n",
       "    <tr>\n",
       "      <th>City: Large</th>\n",
       "      <td>249.0</td>\n",
       "      <td>37.752610</td>\n",
       "      <td>23.784571</td>\n",
       "      <td>0.00</td>\n",
       "      <td>18.5200</td>\n",
       "      <td>33.060</td>\n",
       "      <td>55.5100</td>\n",
       "      <td>94.64</td>\n",
       "    </tr>\n",
       "    <tr>\n",
       "      <th>City: Midsize</th>\n",
       "      <td>82.0</td>\n",
       "      <td>49.291098</td>\n",
       "      <td>21.760904</td>\n",
       "      <td>3.28</td>\n",
       "      <td>29.9800</td>\n",
       "      <td>52.245</td>\n",
       "      <td>67.9075</td>\n",
       "      <td>84.85</td>\n",
       "    </tr>\n",
       "    <tr>\n",
       "      <th>City: Small</th>\n",
       "      <td>72.0</td>\n",
       "      <td>57.306806</td>\n",
       "      <td>24.243862</td>\n",
       "      <td>0.00</td>\n",
       "      <td>39.2775</td>\n",
       "      <td>60.555</td>\n",
       "      <td>78.5225</td>\n",
       "      <td>96.95</td>\n",
       "    </tr>\n",
       "    <tr>\n",
       "      <th>Rural: Distant</th>\n",
       "      <td>15.0</td>\n",
       "      <td>34.022667</td>\n",
       "      <td>19.780755</td>\n",
       "      <td>0.00</td>\n",
       "      <td>18.0000</td>\n",
       "      <td>35.000</td>\n",
       "      <td>48.5300</td>\n",
       "      <td>70.27</td>\n",
       "    </tr>\n",
       "    <tr>\n",
       "      <th>Rural: Fringe</th>\n",
       "      <td>66.0</td>\n",
       "      <td>42.134848</td>\n",
       "      <td>19.345301</td>\n",
       "      <td>5.95</td>\n",
       "      <td>26.2575</td>\n",
       "      <td>44.660</td>\n",
       "      <td>59.8325</td>\n",
       "      <td>74.63</td>\n",
       "    </tr>\n",
       "    <tr>\n",
       "      <th>Rural: Remote</th>\n",
       "      <td>2.0</td>\n",
       "      <td>54.860000</td>\n",
       "      <td>24.550747</td>\n",
       "      <td>37.50</td>\n",
       "      <td>46.1800</td>\n",
       "      <td>54.860</td>\n",
       "      <td>63.5400</td>\n",
       "      <td>72.22</td>\n",
       "    </tr>\n",
       "    <tr>\n",
       "      <th>Suburb: Large</th>\n",
       "      <td>369.0</td>\n",
       "      <td>46.438808</td>\n",
       "      <td>24.216083</td>\n",
       "      <td>0.00</td>\n",
       "      <td>27.5600</td>\n",
       "      <td>46.890</td>\n",
       "      <td>65.9000</td>\n",
       "      <td>98.75</td>\n",
       "    </tr>\n",
       "    <tr>\n",
       "      <th>Suburb: Midsize</th>\n",
       "      <td>39.0</td>\n",
       "      <td>49.645385</td>\n",
       "      <td>21.452970</td>\n",
       "      <td>10.00</td>\n",
       "      <td>31.1650</td>\n",
       "      <td>50.000</td>\n",
       "      <td>66.8200</td>\n",
       "      <td>89.03</td>\n",
       "    </tr>\n",
       "    <tr>\n",
       "      <th>Suburb: Small</th>\n",
       "      <td>31.0</td>\n",
       "      <td>50.357419</td>\n",
       "      <td>16.745320</td>\n",
       "      <td>17.07</td>\n",
       "      <td>38.7200</td>\n",
       "      <td>47.540</td>\n",
       "      <td>60.9800</td>\n",
       "      <td>88.81</td>\n",
       "    </tr>\n",
       "    <tr>\n",
       "      <th>Town: Distant</th>\n",
       "      <td>41.0</td>\n",
       "      <td>36.379756</td>\n",
       "      <td>21.473469</td>\n",
       "      <td>0.00</td>\n",
       "      <td>20.9300</td>\n",
       "      <td>32.610</td>\n",
       "      <td>46.8800</td>\n",
       "      <td>100.00</td>\n",
       "    </tr>\n",
       "    <tr>\n",
       "      <th>Town: Fringe</th>\n",
       "      <td>37.0</td>\n",
       "      <td>39.902973</td>\n",
       "      <td>18.537964</td>\n",
       "      <td>9.09</td>\n",
       "      <td>24.5400</td>\n",
       "      <td>36.270</td>\n",
       "      <td>55.0000</td>\n",
       "      <td>75.51</td>\n",
       "    </tr>\n",
       "    <tr>\n",
       "      <th>Town: Remote</th>\n",
       "      <td>15.0</td>\n",
       "      <td>51.434667</td>\n",
       "      <td>14.321699</td>\n",
       "      <td>25.71</td>\n",
       "      <td>41.1250</td>\n",
       "      <td>55.170</td>\n",
       "      <td>60.2450</td>\n",
       "      <td>72.09</td>\n",
       "    </tr>\n",
       "  </tbody>\n",
       "</table>\n",
       "</div>"
      ],
      "text/plain": [
       "                 count       mean        std    min      25%     50%      75%  \\\n",
       "locale                                                                          \n",
       "City: Large      249.0  37.752610  23.784571   0.00  18.5200  33.060  55.5100   \n",
       "City: Midsize     82.0  49.291098  21.760904   3.28  29.9800  52.245  67.9075   \n",
       "City: Small       72.0  57.306806  24.243862   0.00  39.2775  60.555  78.5225   \n",
       "Rural: Distant    15.0  34.022667  19.780755   0.00  18.0000  35.000  48.5300   \n",
       "Rural: Fringe     66.0  42.134848  19.345301   5.95  26.2575  44.660  59.8325   \n",
       "Rural: Remote      2.0  54.860000  24.550747  37.50  46.1800  54.860  63.5400   \n",
       "Suburb: Large    369.0  46.438808  24.216083   0.00  27.5600  46.890  65.9000   \n",
       "Suburb: Midsize   39.0  49.645385  21.452970  10.00  31.1650  50.000  66.8200   \n",
       "Suburb: Small     31.0  50.357419  16.745320  17.07  38.7200  47.540  60.9800   \n",
       "Town: Distant     41.0  36.379756  21.473469   0.00  20.9300  32.610  46.8800   \n",
       "Town: Fringe      37.0  39.902973  18.537964   9.09  24.5400  36.270  55.0000   \n",
       "Town: Remote      15.0  51.434667  14.321699  25.71  41.1250  55.170  60.2450   \n",
       "\n",
       "                    max  \n",
       "locale                   \n",
       "City: Large       94.64  \n",
       "City: Midsize     84.85  \n",
       "City: Small       96.95  \n",
       "Rural: Distant    70.27  \n",
       "Rural: Fringe     74.63  \n",
       "Rural: Remote     72.22  \n",
       "Suburb: Large     98.75  \n",
       "Suburb: Midsize   89.03  \n",
       "Suburb: Small     88.81  \n",
       "Town: Distant    100.00  \n",
       "Town: Fringe      75.51  \n",
       "Town: Remote      72.09  "
      ]
     },
     "execution_count": 60,
     "metadata": {},
     "output_type": "execute_result"
    }
   ],
   "source": [
    "nces_sat.groupby('locale')['pct_both_benchmarks_met_12'].describe()"
   ]
  },
  {
   "cell_type": "markdown",
   "metadata": {},
   "source": [
    "The charter school and magnet school data were fairly dull. This could also be because there are so few charter and magnet schools compared to regular schools. Possibly, a dataset that focuses on charter and/or magnet schools would show different results. "
   ]
  },
  {
   "cell_type": "code",
   "execution_count": 61,
   "metadata": {},
   "outputs": [
    {
     "data": {
      "text/html": [
       "<div>\n",
       "<style scoped>\n",
       "    .dataframe tbody tr th:only-of-type {\n",
       "        vertical-align: middle;\n",
       "    }\n",
       "\n",
       "    .dataframe tbody tr th {\n",
       "        vertical-align: top;\n",
       "    }\n",
       "\n",
       "    .dataframe thead th {\n",
       "        text-align: right;\n",
       "    }\n",
       "</style>\n",
       "<table border=\"1\" class=\"dataframe\">\n",
       "  <thead>\n",
       "    <tr style=\"text-align: right;\">\n",
       "      <th></th>\n",
       "      <th>count</th>\n",
       "      <th>mean</th>\n",
       "      <th>std</th>\n",
       "      <th>min</th>\n",
       "      <th>25%</th>\n",
       "      <th>50%</th>\n",
       "      <th>75%</th>\n",
       "      <th>max</th>\n",
       "    </tr>\n",
       "    <tr>\n",
       "      <th>charter</th>\n",
       "      <th></th>\n",
       "      <th></th>\n",
       "      <th></th>\n",
       "      <th></th>\n",
       "      <th></th>\n",
       "      <th></th>\n",
       "      <th></th>\n",
       "      <th></th>\n",
       "    </tr>\n",
       "  </thead>\n",
       "  <tbody>\n",
       "    <tr>\n",
       "      <th>No</th>\n",
       "      <td>993.0</td>\n",
       "      <td>44.59569</td>\n",
       "      <td>23.558619</td>\n",
       "      <td>0.00</td>\n",
       "      <td>25.39</td>\n",
       "      <td>43.41</td>\n",
       "      <td>63.04</td>\n",
       "      <td>100.00</td>\n",
       "    </tr>\n",
       "    <tr>\n",
       "      <th>Yes</th>\n",
       "      <td>25.0</td>\n",
       "      <td>42.33880</td>\n",
       "      <td>20.850002</td>\n",
       "      <td>10.81</td>\n",
       "      <td>23.44</td>\n",
       "      <td>43.59</td>\n",
       "      <td>61.54</td>\n",
       "      <td>78.95</td>\n",
       "    </tr>\n",
       "  </tbody>\n",
       "</table>\n",
       "</div>"
      ],
      "text/plain": [
       "         count      mean        std    min    25%    50%    75%     max\n",
       "charter                                                                \n",
       "No       993.0  44.59569  23.558619   0.00  25.39  43.41  63.04  100.00\n",
       "Yes       25.0  42.33880  20.850002  10.81  23.44  43.59  61.54   78.95"
      ]
     },
     "execution_count": 61,
     "metadata": {},
     "output_type": "execute_result"
    }
   ],
   "source": [
    "nces_sat.groupby('charter')['pct_both_benchmarks_met_12'].describe()"
   ]
  },
  {
   "cell_type": "code",
   "execution_count": 62,
   "metadata": {},
   "outputs": [
    {
     "data": {
      "text/html": [
       "<div>\n",
       "<style scoped>\n",
       "    .dataframe tbody tr th:only-of-type {\n",
       "        vertical-align: middle;\n",
       "    }\n",
       "\n",
       "    .dataframe tbody tr th {\n",
       "        vertical-align: top;\n",
       "    }\n",
       "\n",
       "    .dataframe thead th {\n",
       "        text-align: right;\n",
       "    }\n",
       "</style>\n",
       "<table border=\"1\" class=\"dataframe\">\n",
       "  <thead>\n",
       "    <tr style=\"text-align: right;\">\n",
       "      <th></th>\n",
       "      <th>count</th>\n",
       "      <th>mean</th>\n",
       "      <th>std</th>\n",
       "      <th>min</th>\n",
       "      <th>25%</th>\n",
       "      <th>50%</th>\n",
       "      <th>75%</th>\n",
       "      <th>max</th>\n",
       "    </tr>\n",
       "    <tr>\n",
       "      <th>magnet</th>\n",
       "      <th></th>\n",
       "      <th></th>\n",
       "      <th></th>\n",
       "      <th></th>\n",
       "      <th></th>\n",
       "      <th></th>\n",
       "      <th></th>\n",
       "      <th></th>\n",
       "    </tr>\n",
       "  </thead>\n",
       "  <tbody>\n",
       "    <tr>\n",
       "      <th>No</th>\n",
       "      <td>882.0</td>\n",
       "      <td>45.016825</td>\n",
       "      <td>23.427303</td>\n",
       "      <td>0.00</td>\n",
       "      <td>25.4900</td>\n",
       "      <td>44.46</td>\n",
       "      <td>63.255</td>\n",
       "      <td>100.0</td>\n",
       "    </tr>\n",
       "    <tr>\n",
       "      <th>Yes</th>\n",
       "      <td>136.0</td>\n",
       "      <td>41.449632</td>\n",
       "      <td>23.742428</td>\n",
       "      <td>1.39</td>\n",
       "      <td>22.6175</td>\n",
       "      <td>37.92</td>\n",
       "      <td>57.890</td>\n",
       "      <td>95.3</td>\n",
       "    </tr>\n",
       "  </tbody>\n",
       "</table>\n",
       "</div>"
      ],
      "text/plain": [
       "        count       mean        std   min      25%    50%     75%    max\n",
       "magnet                                                                  \n",
       "No      882.0  45.016825  23.427303  0.00  25.4900  44.46  63.255  100.0\n",
       "Yes     136.0  41.449632  23.742428  1.39  22.6175  37.92  57.890   95.3"
      ]
     },
     "execution_count": 62,
     "metadata": {},
     "output_type": "execute_result"
    }
   ],
   "source": [
    "nces_sat.groupby('magnet')['pct_both_benchmarks_met_12'].describe()"
   ]
  },
  {
   "cell_type": "markdown",
   "metadata": {},
   "source": [
    "## Visualize the Data"
   ]
  },
  {
   "cell_type": "markdown",
   "metadata": {},
   "source": [
    "The first thing I wanted to see was how strongly correlated free and reduced lunch eligibility is with performance on the SAT. I was curious if other interesting relationships between variables might show up in a heatmap as well, so that was the first visualization I made for this dataset. \n",
    "\n",
    "As this heatmap of the NCES-SAT combined data shows, there is a very strong negative correlation between SAT performance and free and reduced lunch eligibility. \n",
    "\n",
    "This heatmap did reveal strong positive correlations between the subscores on the test. That is, if someone did well on one subtest of the SAT, they seemed to do well on the other subtest as well, which in turn gave them a high overall score. This finding wasn't relevant to my project however. \n",
    "\n",
    "The `mask` code is a direct copy from our lesson 2.01. "
   ]
  },
  {
   "cell_type": "code",
   "execution_count": 63,
   "metadata": {
    "scrolled": true
   },
   "outputs": [
    {
     "data": {
      "image/png": "[encoded data removed]",
      "text/plain": [
       "<Figure size 864x576 with 2 Axes>"
      ]
     },
     "metadata": {
      "needs_background": "light"
     },
     "output_type": "display_data"
    }
   ],
   "source": [
    "plt.figure(figsize = (12,8))\n",
    "\n",
    "corr = nces_sat.corr() \n",
    "\n",
    "# Took this straight from lesson 2.01\n",
    "mask = np.zeros_like(corr)\n",
    "mask[np.triu_indices_from(mask)] = True\n",
    "\n",
    "sns.heatmap(data = corr,\n",
    "           annot = True,\n",
    "           mask = mask,\n",
    "           cmap = 'magma');"
   ]
  },
  {
   "cell_type": "markdown",
   "metadata": {},
   "source": [
    "I really wanted to see the free and reduced lunch correlation as a scatterplot after seeing it in the heatmap. \n",
    "\n",
    "Just in case you're not seeing any labels... I changed the color of the tick marks, title, and axis labels to white in order to make them stand out better on my dark grey background. "
   ]
  },
  {
   "cell_type": "code",
   "execution_count": 64,
   "metadata": {},
   "outputs": [
    {
     "data": {
      "image/png": "[encoded data removed]",
      "text/plain": [
       "<Figure size 864x576 with 1 Axes>"
      ]
     },
     "metadata": {
      "needs_background": "dark"
     },
     "output_type": "display_data"
    }
   ],
   "source": [
    "plt.figure(figsize = (12, 8))\n",
    "\n",
    "plt.scatter(x = nces_sat['free_reduced_lunch'],  \n",
    "            y = nces_sat['pct_both_benchmarks_met_12'],  \n",
    "            color = 'midnightblue');\n",
    "\n",
    "plt.xticks(color = 'white') # set the tick marks to white bc I have a dark background\n",
    "plt.yticks(color = 'white')\n",
    "\n",
    "plt.title('SAT Scores of 12th Graders Decline as Free and Reduced Lunch Eligibility Increases', size = 16, color = 'white');\n",
    "plt.xlabel('Percent of Students Meeting Benchmark', size = 13, color = 'white')\n",
    "plt.ylabel('Percent of Students on F/R Lunch', size = 13, color = 'white');"
   ]
  },
  {
   "cell_type": "markdown",
   "metadata": {},
   "source": [
    "I also wanted to see if the effect of low socioeconomic status was observable at the school level. Free and reduced lunch is based on each individual household, so inasmuch as a school is a group of individual students, it does work to compare this household-level metric to a school-level phenomenon. But Title I applies at the school level, rather than the student level, so I wanted to make sure that the pattern still held. \n",
    "\n",
    "Title I status is a binary -- while schools may receive differing amounts of funding based on the socioeconomic factors of their respective communities, those amounts are not available. We only know if a school receives zero Title I funds or more than zero funds. \n",
    "\n",
    "I applied two masks for Title I status and created some histograms for various benchmark metrics from the NCES-SAT combined data. The pair below seemed to illustrate the income effect on test preparation best. "
   ]
  },
  {
   "cell_type": "code",
   "execution_count": 65,
   "metadata": {},
   "outputs": [],
   "source": [
    "title_1 = nces_sat[(nces_sat['title_1'] == 'Yes')]\n",
    "not_title_1 = nces_sat[(nces_sat['title_1'] == 'No')]"
   ]
  },
  {
   "cell_type": "code",
   "execution_count": 66,
   "metadata": {},
   "outputs": [
    {
     "data": {
      "image/png": "[encoded data removed]",
      "text/plain": [
       "<Figure size 432x432 with 1 Axes>"
      ]
     },
     "metadata": {
      "needs_background": "light"
     },
     "output_type": "display_data"
    }
   ],
   "source": [
    "plt.figure(figsize = (6,6))\n",
    "\n",
    "plt.hist(title_1['pct_both_benchmarks_met_12'], color = 'royalblue', bins = 10, ec = 'midnightblue');\n",
    "\n",
    "plt.title('Title I Schools by Pct 12th Graders Meeting SAT Benchmark')\n",
    "plt.xlabel('Percent of Students Meeting Benchmark', size = 11)\n",
    "plt.ylabel('Title I Schools', size = 11);"
   ]
  },
  {
   "cell_type": "code",
   "execution_count": 67,
   "metadata": {},
   "outputs": [
    {
     "data": {
      "image/png": "[encoded data removed]",
      "text/plain": [
       "<Figure size 432x432 with 1 Axes>"
      ]
     },
     "metadata": {
      "needs_background": "light"
     },
     "output_type": "display_data"
    }
   ],
   "source": [
    "plt.figure(figsize = (6,6))\n",
    "\n",
    "plt.hist(not_title_1['pct_both_benchmarks_met_12'], color = 'royalblue', bins = 10, ec = 'midnightblue');\n",
    "\n",
    "plt.title('Non-Title I Schools by Pct 12th Graders Meeting SAT Benchmark')\n",
    "plt.xlabel('Percent of Students Meeting Benchmark', size = 11)\n",
    "plt.ylabel('Non-Title I Schools', size = 11);"
   ]
  },
  {
   "cell_type": "markdown",
   "metadata": {},
   "source": [
    "In addition to test scores, I plotted the SAT participation rate of Title I and non-Title I schools. These two histograms also indicate that students from Title I may be less ready for college. Though both skew right, the Title I schools peak at around 25% participation while the non-Title I schools peak around 35% participation. "
   ]
  },
  {
   "cell_type": "code",
   "execution_count": 68,
   "metadata": {},
   "outputs": [
    {
     "data": {
      "image/png": "[encoded data removed]",
      "text/plain": [
       "<Figure size 432x432 with 1 Axes>"
      ]
     },
     "metadata": {
      "needs_background": "light"
     },
     "output_type": "display_data"
    }
   ],
   "source": [
    "plt.figure(figsize = (6,6))\n",
    "\n",
    "plt.hist(title_1['sat_participation_rate'], color = 'royalblue', bins = 15, ec = 'midnightblue');\n",
    "\n",
    "plt.title('Title I Schools by Participation Rate');"
   ]
  },
  {
   "cell_type": "code",
   "execution_count": 69,
   "metadata": {},
   "outputs": [
    {
     "data": {
      "image/png": "[encoded data removed]",
      "text/plain": [
       "<Figure size 432x432 with 1 Axes>"
      ]
     },
     "metadata": {
      "needs_background": "light"
     },
     "output_type": "display_data"
    }
   ],
   "source": [
    "plt.figure(figsize = (6,6))\n",
    "\n",
    "plt.hist(not_title_1['sat_participation_rate'], color = 'royalblue', bins = 15, ec = 'midnightblue');\n",
    "\n",
    "plt.title('Non-Title I Schools by Participation Rate');\n"
   ]
  },
  {
   "cell_type": "markdown",
   "metadata": {},
   "source": [
    "Switching gears somewhat, I made a few visualizations that I didn't use. I was curious to see the correlation between participation rate and test scores that I had glimpsed above in the SAT national data during EDA. The heatmap showed a very strong negative correlation. "
   ]
  },
  {
   "cell_type": "code",
   "execution_count": 70,
   "metadata": {},
   "outputs": [
    {
     "data": {
      "image/png": "[encoded data removed]",
      "text/plain": [
       "<Figure size 432x288 with 2 Axes>"
      ]
     },
     "metadata": {
      "needs_background": "light"
     },
     "output_type": "display_data"
    }
   ],
   "source": [
    "corr2 = sat_natl_2019.corr()\n",
    "\n",
    "# Took this straight from lesson 2.01\n",
    "mask = np.zeros_like(corr2)\n",
    "mask[np.triu_indices_from(mask)] = True\n",
    "\n",
    "sns.heatmap(data = corr2, annot = True, mask = mask, cmap = 'viridis');"
   ]
  },
  {
   "cell_type": "markdown",
   "metadata": {},
   "source": [
    "I also wondered if a bar chart of the total SAT scores for each state (based on the SAT national data) would be useful. It ended up pretty hard to read, and I didn't think it illuminated anything particularly interesting, so I didn't use it. "
   ]
  },
  {
   "cell_type": "code",
   "execution_count": 71,
   "metadata": {},
   "outputs": [
    {
     "data": {
      "image/png": "[encoded data removed]",
      "text/plain": [
       "<Figure size 1440x576 with 1 Axes>"
      ]
     },
     "metadata": {
      "needs_background": "light"
     },
     "output_type": "display_data"
    }
   ],
   "source": [
    "sns.set_palette(palette = 'bone')\n",
    "# Side Note - changing the palette doesn't produce any effect for me. \n",
    "\n",
    "plt.figure(figsize = (20,8))\n",
    "\n",
    "sns.barplot(x = sat_natl_2019['state'], y = sat_natl_2019['avg_total_score']);\n",
    "\n",
    "plt.xticks(rotation = 50);\n",
    "\n",
    "plt.title('Average SAT Score in Each State', size = 16)\n",
    "plt.xlabel('State', size = 12)\n",
    "plt.ylabel('SAT Score', size = 12);"
   ]
  },
  {
   "cell_type": "markdown",
   "metadata": {},
   "source": [
    "## Conclusions and Recommendations"
   ]
  },
  {
   "cell_type": "markdown",
   "metadata": {},
   "source": [
    "Based on my exploration of the data, I have a few recommendations for education policy-makers and non-profit organizations that operate out of public schools. \n",
    "\n",
    "- Given that a college degree is a proven mechanism for increasing lifetime earnings, it should be a priority to ensure that low-income students graduate ready for college. \n",
    "- Low-income California students are not as well-prepared for important college entrance exams like the SAT as their higher-income peers. We need to allocate additional resources to help more low-income students succeed on these tests.\n",
    "- This project focuses on the state of California, but the conclusions are informed by national-level data. The relationship between free and reduced lunch eligibility and test scores is clear, strong, and alarming. Policy-makers in other jurisdictions should consider conducting similar examinations in their own region. \n",
    "- The two federal programs considered here -- National School Lunch and Title I -- are not sufficient to erase achievement disparities based on socioeconomic factors. We need to invest in our students if we want to see them go to college and break out of cyclical poverty. \n"
   ]
  },
  {
   "cell_type": "code",
   "execution_count": null,
   "metadata": {},
   "outputs": [],
   "source": [
    "title_1 = nces_sat[(nces_sat['title_1'] == 'Yes') & nces_sat['Percent of Students Meeting Benchmark']"
   ]
  }
 ],
 "metadata": {
  "anaconda-cloud": {},
  "kernelspec": {
   "display_name": "Python 3",
   "language": "python",
   "name": "python3"
  },
  "language_info": {
   "codemirror_mode": {
    "name": "ipython",
    "version": 3
   },
   "file_extension": ".py",
   "mimetype": "text/x-python",
   "name": "python",
   "nbconvert_exporter": "python",
   "pygments_lexer": "ipython3",
   "version": "3.8.8"
  }
 },
 "nbformat": 4,
 "nbformat_minor": 4
}
